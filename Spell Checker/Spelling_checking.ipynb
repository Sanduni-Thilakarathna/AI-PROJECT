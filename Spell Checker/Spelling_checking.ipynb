{
  "cells": [
    {
      "cell_type": "code",
      "execution_count": 77,
      "metadata": {
        "colab": {
          "base_uri": "https://localhost:8080/"
        },
        "id": "Eb57A0ZXugJF",
        "outputId": "2b80568f-87b9-4080-c685-89918cba8793"
      },
      "outputs": [
        {
          "output_type": "stream",
          "name": "stdout",
          "text": [
            "Collecting PyPDF2\n",
            "  Downloading pypdf2-3.0.1-py3-none-any.whl.metadata (6.8 kB)\n",
            "Downloading pypdf2-3.0.1-py3-none-any.whl (232 kB)\n",
            "\u001b[?25l   \u001b[90m━━━━━━━━━━━━━━━━━━━━━━━━━━━━━━━━━━━━━━━━\u001b[0m \u001b[32m0.0/232.6 kB\u001b[0m \u001b[31m?\u001b[0m eta \u001b[36m-:--:--\u001b[0m\r\u001b[2K   \u001b[91m━━━━━━━━━━━━━━━━━━━━━━━━━━━━━━━━━━━━━━\u001b[0m\u001b[91m╸\u001b[0m\u001b[90m━\u001b[0m \u001b[32m225.3/232.6 kB\u001b[0m \u001b[31m8.7 MB/s\u001b[0m eta \u001b[36m0:00:01\u001b[0m\r\u001b[2K   \u001b[90m━━━━━━━━━━━━━━━━━━━━━━━━━━━━━━━━━━━━━━━━\u001b[0m \u001b[32m232.6/232.6 kB\u001b[0m \u001b[31m6.3 MB/s\u001b[0m eta \u001b[36m0:00:00\u001b[0m\n",
            "\u001b[?25hInstalling collected packages: PyPDF2\n",
            "Successfully installed PyPDF2-3.0.1\n"
          ]
        }
      ],
      "source": [
        "!pip install PyPDF2\n"
      ]
    },
    {
      "cell_type": "code",
      "execution_count": 78,
      "metadata": {
        "colab": {
          "base_uri": "https://localhost:8080/"
        },
        "id": "9mDvxxfDxIDu",
        "outputId": "c8c0498d-3313-4d5b-9b49-0714417913a0"
      },
      "outputs": [
        {
          "output_type": "stream",
          "name": "stdout",
          "text": [
            "Collecting pytesseract\n",
            "  Downloading pytesseract-0.3.13-py3-none-any.whl.metadata (11 kB)\n",
            "Requirement already satisfied: pillow in /usr/local/lib/python3.10/dist-packages (11.0.0)\n",
            "Collecting pdfplumber\n",
            "  Downloading pdfplumber-0.11.5-py3-none-any.whl.metadata (42 kB)\n",
            "\u001b[2K     \u001b[90m━━━━━━━━━━━━━━━━━━━━━━━━━━━━━━━━━━━━━━━━\u001b[0m \u001b[32m42.5/42.5 kB\u001b[0m \u001b[31m2.2 MB/s\u001b[0m eta \u001b[36m0:00:00\u001b[0m\n",
            "\u001b[?25hRequirement already satisfied: packaging>=21.3 in /usr/local/lib/python3.10/dist-packages (from pytesseract) (24.2)\n",
            "Collecting pdfminer.six==20231228 (from pdfplumber)\n",
            "  Downloading pdfminer.six-20231228-py3-none-any.whl.metadata (4.2 kB)\n",
            "Collecting pypdfium2>=4.18.0 (from pdfplumber)\n",
            "  Downloading pypdfium2-4.30.1-py3-none-manylinux_2_17_x86_64.manylinux2014_x86_64.whl.metadata (48 kB)\n",
            "\u001b[2K     \u001b[90m━━━━━━━━━━━━━━━━━━━━━━━━━━━━━━━━━━━━━━━━\u001b[0m \u001b[32m48.2/48.2 kB\u001b[0m \u001b[31m4.4 MB/s\u001b[0m eta \u001b[36m0:00:00\u001b[0m\n",
            "\u001b[?25hRequirement already satisfied: charset-normalizer>=2.0.0 in /usr/local/lib/python3.10/dist-packages (from pdfminer.six==20231228->pdfplumber) (3.4.0)\n",
            "Requirement already satisfied: cryptography>=36.0.0 in /usr/local/lib/python3.10/dist-packages (from pdfminer.six==20231228->pdfplumber) (43.0.3)\n",
            "Requirement already satisfied: cffi>=1.12 in /usr/local/lib/python3.10/dist-packages (from cryptography>=36.0.0->pdfminer.six==20231228->pdfplumber) (1.17.1)\n",
            "Requirement already satisfied: pycparser in /usr/local/lib/python3.10/dist-packages (from cffi>=1.12->cryptography>=36.0.0->pdfminer.six==20231228->pdfplumber) (2.22)\n",
            "Downloading pytesseract-0.3.13-py3-none-any.whl (14 kB)\n",
            "Downloading pdfplumber-0.11.5-py3-none-any.whl (59 kB)\n",
            "\u001b[2K   \u001b[90m━━━━━━━━━━━━━━━━━━━━━━━━━━━━━━━━━━━━━━━━\u001b[0m \u001b[32m59.5/59.5 kB\u001b[0m \u001b[31m5.8 MB/s\u001b[0m eta \u001b[36m0:00:00\u001b[0m\n",
            "\u001b[?25hDownloading pdfminer.six-20231228-py3-none-any.whl (5.6 MB)\n",
            "\u001b[2K   \u001b[90m━━━━━━━━━━━━━━━━━━━━━━━━━━━━━━━━━━━━━━━━\u001b[0m \u001b[32m5.6/5.6 MB\u001b[0m \u001b[31m69.4 MB/s\u001b[0m eta \u001b[36m0:00:00\u001b[0m\n",
            "\u001b[?25hDownloading pypdfium2-4.30.1-py3-none-manylinux_2_17_x86_64.manylinux2014_x86_64.whl (2.9 MB)\n",
            "\u001b[2K   \u001b[90m━━━━━━━━━━━━━━━━━━━━━━━━━━━━━━━━━━━━━━━━\u001b[0m \u001b[32m2.9/2.9 MB\u001b[0m \u001b[31m101.6 MB/s\u001b[0m eta \u001b[36m0:00:00\u001b[0m\n",
            "\u001b[?25hInstalling collected packages: pytesseract, pypdfium2, pdfminer.six, pdfplumber\n",
            "Successfully installed pdfminer.six-20231228 pdfplumber-0.11.5 pypdfium2-4.30.1 pytesseract-0.3.13\n"
          ]
        }
      ],
      "source": [
        "pip install pytesseract pillow pdfplumber\n"
      ]
    },
    {
      "cell_type": "code",
      "execution_count": 79,
      "metadata": {
        "colab": {
          "base_uri": "https://localhost:8080/"
        },
        "id": "JDKnXuOtyPE8",
        "outputId": "21b6fd9c-1983-4097-8273-40ed29d6c10e"
      },
      "outputs": [
        {
          "output_type": "stream",
          "name": "stdout",
          "text": [
            "Collecting pdf2image\n",
            "  Downloading pdf2image-1.17.0-py3-none-any.whl.metadata (6.2 kB)\n",
            "Requirement already satisfied: pillow in /usr/local/lib/python3.10/dist-packages (from pdf2image) (11.0.0)\n",
            "Downloading pdf2image-1.17.0-py3-none-any.whl (11 kB)\n",
            "Installing collected packages: pdf2image\n",
            "Successfully installed pdf2image-1.17.0\n"
          ]
        }
      ],
      "source": [
        "!pip install pdf2image\n"
      ]
    },
    {
      "cell_type": "code",
      "execution_count": 80,
      "metadata": {
        "colab": {
          "base_uri": "https://localhost:8080/"
        },
        "id": "GMlEudJ1J2NA",
        "outputId": "b6475853-c57b-48b3-904b-e651cf515994"
      },
      "outputs": [
        {
          "output_type": "stream",
          "name": "stdout",
          "text": [
            "Requirement already satisfied: transformers in /usr/local/lib/python3.10/dist-packages (4.47.1)\n",
            "Requirement already satisfied: torch in /usr/local/lib/python3.10/dist-packages (2.5.1+cu121)\n",
            "Requirement already satisfied: filelock in /usr/local/lib/python3.10/dist-packages (from transformers) (3.16.1)\n",
            "Requirement already satisfied: huggingface-hub<1.0,>=0.24.0 in /usr/local/lib/python3.10/dist-packages (from transformers) (0.27.0)\n",
            "Requirement already satisfied: numpy>=1.17 in /usr/local/lib/python3.10/dist-packages (from transformers) (1.26.4)\n",
            "Requirement already satisfied: packaging>=20.0 in /usr/local/lib/python3.10/dist-packages (from transformers) (24.2)\n",
            "Requirement already satisfied: pyyaml>=5.1 in /usr/local/lib/python3.10/dist-packages (from transformers) (6.0.2)\n",
            "Requirement already satisfied: regex!=2019.12.17 in /usr/local/lib/python3.10/dist-packages (from transformers) (2024.11.6)\n",
            "Requirement already satisfied: requests in /usr/local/lib/python3.10/dist-packages (from transformers) (2.32.3)\n",
            "Requirement already satisfied: tokenizers<0.22,>=0.21 in /usr/local/lib/python3.10/dist-packages (from transformers) (0.21.0)\n",
            "Requirement already satisfied: safetensors>=0.4.1 in /usr/local/lib/python3.10/dist-packages (from transformers) (0.4.5)\n",
            "Requirement already satisfied: tqdm>=4.27 in /usr/local/lib/python3.10/dist-packages (from transformers) (4.67.1)\n",
            "Requirement already satisfied: typing-extensions>=4.8.0 in /usr/local/lib/python3.10/dist-packages (from torch) (4.12.2)\n",
            "Requirement already satisfied: networkx in /usr/local/lib/python3.10/dist-packages (from torch) (3.4.2)\n",
            "Requirement already satisfied: jinja2 in /usr/local/lib/python3.10/dist-packages (from torch) (3.1.4)\n",
            "Requirement already satisfied: fsspec in /usr/local/lib/python3.10/dist-packages (from torch) (2024.10.0)\n",
            "Requirement already satisfied: sympy==1.13.1 in /usr/local/lib/python3.10/dist-packages (from torch) (1.13.1)\n",
            "Requirement already satisfied: mpmath<1.4,>=1.1.0 in /usr/local/lib/python3.10/dist-packages (from sympy==1.13.1->torch) (1.3.0)\n",
            "Requirement already satisfied: MarkupSafe>=2.0 in /usr/local/lib/python3.10/dist-packages (from jinja2->torch) (3.0.2)\n",
            "Requirement already satisfied: charset-normalizer<4,>=2 in /usr/local/lib/python3.10/dist-packages (from requests->transformers) (3.4.0)\n",
            "Requirement already satisfied: idna<4,>=2.5 in /usr/local/lib/python3.10/dist-packages (from requests->transformers) (3.10)\n",
            "Requirement already satisfied: urllib3<3,>=1.21.1 in /usr/local/lib/python3.10/dist-packages (from requests->transformers) (2.2.3)\n",
            "Requirement already satisfied: certifi>=2017.4.17 in /usr/local/lib/python3.10/dist-packages (from requests->transformers) (2024.12.14)\n"
          ]
        }
      ],
      "source": [
        "pip install transformers torch\n"
      ]
    },
    {
      "cell_type": "code",
      "execution_count": 100,
      "metadata": {
        "colab": {
          "base_uri": "https://localhost:8080/"
        },
        "id": "88YcffuLM830",
        "outputId": "8bec7f6f-9aa2-46c3-a275-d3b15c1477a9"
      },
      "outputs": [
        {
          "output_type": "stream",
          "name": "stdout",
          "text": [
            "\n",
            "අධ්‍යාපනය -> අධ්‍යාපනය මනුෂ්‍ය -> මනුෂ්‍ය ජීවිතය -> ජීවිතය මූලික -> මූලික පදනමක්. -> ['පදනමක්'] කුඩා -> කුඩා අවධියය -> ['අවධියේ'] සිට, -> ['සිට'] දරුවන්ට -> දරුවන්ට ජීවිතය -> ජීවිතය වැදගත් -> වැදගත් පාඩම් -> පාඩම්\n",
            "ඉගැන්ීම -> ['ඉගැන්වීම', 'ගැනීම', 'ගැනීමට'] වැදගත්. -> ['වැදගත්'] ගුරු -> ගුරු මගයපන්ීම -> ['මගපෙන්වීම'] මඟින් -> මඟින් දරුවන්යේ -> ['දරුවන්ගේ', 'දරුවන්ට'] දැනුම -> දැනුම වර්ධ්‍නයට -> ['වර්ධනයට'] ඇත. -> ['ඇත'] අධ්‍යාපනයේ -> අධ්‍යාපනයේ අරමුණ -> අරමුණ\n",
            "වන්යන් -> ['වන්නේ'] මානව -> මානව චරිත -> චරිත යගාඩනගන්නා. -> ['No suggestions'] නමුත්, -> නමුත්, ය -> ['No suggestions'] ාය -> ['No suggestions'] ෝවිට -> ['No suggestions'] අයේ -> ['No suggestions'] අධ්‍යාපන -> ['අධ්\\u200dයාපනය', 'අධ්\\u200dයාපනයේ'] පද්ධ්‍තිය -> ['No suggestions'] අභියයෝග -> ['No suggestions'] යමන්ම -> ['No suggestions']\n",
            "අඩුකම් -> ['No suggestions'] පීඩාවට -> ['No suggestions'] පත්. -> ['No suggestions']\n",
            "පරිසරය -> පරිසරය අප -> අප ජීවිතය -> ජීවිතය අංග -> අංග සම්ූර්ණ -> ['සම්පූර්ණ'] මූලධ්‍ර්මය. -> ['මූලධර්ම', 'මූලධර්මයයි'] ගස් -> ['ගස්,'] මල් -> ['මල්,'] ගඟුල, -> ගඟුල, කඳු, -> කඳු, සතුන් -> සතුන් සියල්ලම -> සියල්ලම පරිසරයේ -> පරිසරයේ සම්පත් -> සම්පත්\n",
            "යේ. -> ['No suggestions'] ස්වභාවික -> ස්වභාවික පරිසරය -> පරිසරය රැක -> රැක ගැනීම, -> ['ගැනීම', 'ගැනීමට', 'ඉගැන්වීම'] සෑම -> සෑම පරම්පරාවක්ම -> පරම්පරාවක්ම කරත -> ['No suggestions'] යුතුය. -> ['යුතුය'] නමුත්, -> නමුත්, අතියර්ක -> ['අතිරේක'] පරියභෝජන -> ['පරිභෝජන'] මඟින් -> මඟින්\n",
            "පරිසරයට -> පරිසරයට ානියක් -> ['හානියක්', 'ජාතියක්'] ඇති -> ඇති කරන. -> ['No suggestions'] ය -> ['No suggestions'] ාඳ -> ['No suggestions'] ජීවන -> ජීවන රටාවක් -> රටාවක් සඳ -> ['No suggestions'] ා -> ['No suggestions'] පරිසර -> පරිසර ආරක්ෂ්‍ාව -> ['ආරක්ෂාව'] අතයවශ්‍ය. -> ['අත්\\u200dයවශ්\\u200dයයි']\n",
            "පවුල -> පවුල සෑම -> සෑම යකයනකුයේ -> ['No suggestions'] ජීවිතය -> ජීවිතය ආධ්‍ාරයක් -> ['ආධාරයක්'] ස -> ['No suggestions'] ආශිර්වාදයක් -> ආශිර්වාදයක් යේ. -> ['No suggestions'] යදමේියන්යේ -> ['No suggestions'] ආදරය -> ආදරය ස -> ['No suggestions']\n",
            "සහෝදරයන්ගේ -> සහෝදරයන්ගේ කටුක -> කටුක භවතාවය -> භවතාවය ජීවිතය -> ජීවිතය සනසවයි. -> ['සනසවයි'] පවුයල් -> ['පවුල'] සාමාජිකයන් -> ['No suggestions'] අතර -> ['No suggestions'] අගනා -> ['No suggestions'] සම්නාධාරයන් -> ['No suggestions']\n",
            "නිවැරදිව -> ['No suggestions'] ගොඩනගන්නා -> ['ගොඩනගන'] සතුට -> ['No suggestions'] හා -> ['No suggestions'] සමාජ -> සමාජ සුහදතාවය -> සුහදතාවය මාර්ගය -> මාර්ගය සකසයි. -> ['සකසයි'] නමුත්, -> නමුත්, සමහරවිට -> සමහරවිට පවුල -> පවුල තුළ -> තුළ\n",
            "ඇතිවන -> ['ඇති'] ගැටලු -> ගැටලු අසන්සුන් -> අසන්සුන් කළ -> කළ හැකි. -> ['හැකි'] යමම -> ['No suggestions'] ගැටලු -> ගැටලු සාර්ථකව -> ['No suggestions'] විසඳාගැනීමට -> විසඳාගැනීමට මූලික -> මූලික වේ. -> ['No suggestions']\n",
            "ඉතිහාසය -> ඉතිහාසය අප -> අප ගෞරවය -> ගෞරවය හා -> ['No suggestions'] පුරාතන -> පුරාතන සංස්කෘතිය -> සංස්කෘතිය තේරුම් -> තේරුම් ගැනීමට -> ගැනීමට උපකාරී. -> ['උපකාරී'] ශ්‍රී -> ශ්‍රී ලංකාව -> ලංකාව ඉතිහාසය -> ඉතිහාසය රජවරු, -> රජවරු,\n",
            "යුධ, -> යුධ, සහ -> සහ සංස්කෘතික -> සංස්කෘතික උරුමයන්ගෙන් -> උරුමයන්ගෙන් පිරී -> පිරී ඇත. -> ['ඇත'] අපේ -> ['අප'] මූලධර්ම -> මූලධර්ම සුරකින -> සුරකින එකාබද්ධ -> එකාබද්ධ සහ -> සහ ශක්තිමත් -> ශක්තිමත් ජාතියක් -> ජාතියක්\n",
            "ගොඩනගන. -> ['ගොඩනගන'] නමුත්, -> නමුත්, ඉතිහාසය -> ඉතිහාසය හොඳට -> ['හොඳ'] නොතේරුම් -> ['තේරුම්'] ගැනීම -> ගැනීම අපට -> ['අප'] අනාගතයේ -> ['No suggestions'] දෝෂ -> ['No suggestions'] නැවත -> ['No suggestions'] සැදීමට -> ['No suggestions'] හේතුවක්. -> ['No suggestions']\n",
            "සංස්කෘතිය -> සංස්කෘතිය සෑම -> සෑම සමාජයම -> ['සමාජ'] පවතින -> ['No suggestions'] අතිශය -> ['No suggestions'] වටිනා -> වටිනා මූලධර්මයයි. -> ['මූලධර්මයයි', 'මූලධර්ම'] සංගීතය, -> සංගීතය, නර්තනය, -> නර්තනය, සහ -> සහ චිත්‍රකලාව -> චිත්‍රකලාව\n",
            "මෙන්ම -> ['මගපෙන්වීම'] භාෂාවත් -> භාෂාවත් සංස්කෘතියේ -> සංස්කෘතියේ වැදගත් -> වැදගත් කොටසක් -> කොටසක් වේ. -> ['No suggestions'] ශ්‍රී -> ශ්‍රී ලංකාව -> ලංකාව සංස්කෘතිය -> සංස්කෘතිය බෞද්ධ -> ['No suggestions'] සාම්ප්‍රදාය, -> ['No suggestions']\n",
            "උත්සව -> ['No suggestions'] සහ -> සහ සම්ප්‍රදායික -> ['No suggestions'] කලා -> ['No suggestions'] මඟින් -> මඟින් වර්ණවත්. -> ['No suggestions'] නමුත්, -> නමුත්, නීතිමය -> ['No suggestions'] ජීවන -> ජීවන රටාව -> ['රටාවක්'] සමඟ, -> ['No suggestions'] අප -> අප සංස්කෘතික -> සංස්කෘතික\n",
            "වටිනාකම් -> ['වටිනා'] අඩු -> ['No suggestions'] කිරීමේ -> ['No suggestions'] අවදානමක්. -> ['No suggestions']\n",
            "\n",
            "\n"
          ]
        }
      ],
      "source": [
        "import difflib\n",
        "\n",
        "# A sample dictionary of correct Sinhala words\n",
        "sinhala_dictionary = set([\n",
        "    \"අධ්‍යාපනය\", \"මනුෂ්‍ය\", \"ජීවිතය\", \"මූලික\", \"පදනමක්\", \"කුඩා\", \"අවධියේ\", \"සිට\", \"දරුවන්ට\", \"ජීවිතය\", \"වැදගත්\", \"පාඩම්\",\n",
        "    \"ඉගැන්වීම\", \"ගුරු\", \"මගපෙන්වීම\", \"මඟින්\", \"දරුවන්ගේ\", \"දැනුම\", \"වර්ධනයට\", \"ඇත\", \"අධ්‍යාපනයේ\", \"අරමුණ\", \"වන්නේ\", \"මානව\",\n",
        "    \"චරිත\", \"ගොඩනගන\", \"බවය\", \"පරිසරය\", \"අප\", \"ජීවිතයේ\", \"අංග\", \"සම්පූර්ණ\", \"මූලධර්මයයි\", \"ගස්,\", \"මල්,\", \"ගඟුල,\",\n",
        "    \"කඳු,\", \"සතුන්\", \"සියල්ලම\", \"පරිසරයේ\", \"සම්පත්\", \"ස්වභාවික\", \"රැක\", \"ගැනීම\", \"සෑම\", \"පරම්පරාවක්ම\", \"කළ\", \"යුතුය\",\n",
        "    \"නමුත්,\", \"අතිරේක\", \"පරිභෝජන\", \"මඟින්\", \"පරිසරයට\", \"හානියක්\", \"ඇති\", \"කරනවා\", \"හොඳ\", \"ජීවන\", \"රටාවක්\", \"සඳහා\",\n",
        "    \"පරිසර\", \"ආරක්ෂාව\", \"අත්‍යවශ්‍යයි\", \"පවුල\", \"සෑම\", \"කෙනෙකුගේ\", \"ජීවිතය\", \"ආධාරයක්\", \"සහ\", \"ආශිර්වාදයක්\", \"දෙමව්පියන්ගේ\",\n",
        "    \"ආදරය\", \"සහෝදරයන්ගේ\", \"කටුක\", \"භවතාවය\", \"සනසවයි\", \"සමාජ\", \"සුහදතාවය\", \"මාර්ගය\", \"සකසයි\", \"සමහරවිට\", \"පවුල\",\n",
        "    \"තුළ\", \"ගැටලු\", \"අසන්සුන්\", \"කළ\", \"හැකි\", \"විසඳාගැනීමට\", \"මූලික\", \"ඉතිහාසය\", \"ගෞරවය\", \"පුරාතන\", \"සංස්කෘතිය\",\n",
        "    \"තේරුම්\", \"ගැනීමට\", \"උපකාරී\", \"ශ්‍රී\", \"ලංකාව\", \"රජවරු,\", \"යුධ,\", \"සංස්කෘතික\", \"උරුමයන්ගෙන්\", \"පිරී\", \"මූලධර්ම\",\n",
        "    \"සුරකින\", \"එකාබද්ධ\", \"ශක්තිමත්\", \"ජාතියක්\", \"සංස්කෘතිය\", \"වටිනා\", \"මූලධර්මයයි\", \"සංගීතය,\", \"නර්තනය,\", \"චිත්‍රකලාව\",\n",
        "    \"භාෂාවත්\", \"සංස්කෘතියේ\", \"කොටසක්\", \"සංස්කෘතියේ\", \"වැදගත්\", \"යුතුය\"\n",
        "])\n",
        "\n",
        "# Function to check spelling and suggest corrections\n",
        "def check_spelling(word):\n",
        "    if word in sinhala_dictionary:\n",
        "        return word\n",
        "    else:\n",
        "        # Find closest matches from the dictionary\n",
        "        suggestions = difflib.get_close_matches(word, sinhala_dictionary, n=3, cutoff=0.7)\n",
        "        return suggestions if suggestions else [\"No suggestions\"]\n",
        "\n",
        "# Input text\n",
        "input_text = \"\"\"\n",
        " අධ්‍යාපනය මනුෂ්‍ය ජීවිතය මූලික පදනමක්. කුඩා අවධියය සිට, දරුවන්ට ජීවිතය වැදගත් පාඩම්\n",
        "    ඉගැන්ීම වැදගත්. ගුරු මගයපන්ීම මඟින් දරුවන්යේ දැනුම වර්ධ්‍නයට ඇත. අධ්‍යාපනයේ අරමුණ\n",
        "    වන්යන් මානව චරිත යගාඩනගන්නා. නමුත්, ය ාය ෝවිට අයේ අධ්‍යාපන පද්ධ්‍තිය අභියයෝග යමන්ම\n",
        "    අඩුකම් පීඩාවට පත්.\n",
        "    පරිසරය අප ජීවිතය අංග සම්ූර්ණ මූලධ්‍ර්මය. ගස් මල් ගඟුල, කඳු, සතුන් සියල්ලම පරිසරයේ සම්පත්\n",
        "    යේ. ස්වභාවික පරිසරය රැක ගැනීම, සෑම පරම්පරාවක්ම කරත යුතුය. නමුත්, අතියර්ක පරියභෝජන මඟින්\n",
        "    පරිසරයට  ානියක් ඇති කරන. ය ාඳ ජීවන රටාවක් සඳ ා පරිසර ආරක්ෂ්‍ාව අතයවශ්‍ය.\n",
        "    පවුල සෑම යකයනකුයේ ජීවිතය ආධ්‍ාරයක් ස  ආශිර්වාදයක් යේ. යදමේියන්යේ ආදරය ස\n",
        "    සහෝදරයන්ගේ කටුක භවතාවය ජීවිතය සනසවයි. පවුයල් සාමාජිකයන් අතර අගනා සම්නාධාරයන්\n",
        "    නිවැරදිව ගොඩනගන්නා සතුට හා සමාජ සුහදතාවය මාර්ගය සකසයි. නමුත්, සමහරවිට පවුල තුළ\n",
        "    ඇතිවන ගැටලු අසන්සුන් කළ හැකි. යමම ගැටලු සාර්ථකව විසඳාගැනීමට මූලික වේ.\n",
        "    ඉතිහාසය අප ගෞරවය හා පුරාතන සංස්කෘතිය තේරුම් ගැනීමට උපකාරී. ශ්‍රී ලංකාව ඉතිහාසය රජවරු,\n",
        "    යුධ, සහ සංස්කෘතික උරුමයන්ගෙන් පිරී ඇත. අපේ මූලධර්ම සුරකින එකාබද්ධ සහ ශක්තිමත් ජාතියක්\n",
        "    ගොඩනගන. නමුත්, ඉතිහාසය හොඳට නොතේරුම් ගැනීම අපට අනාගතයේ දෝෂ නැවත සැදීමට හේතුවක්.\n",
        "    සංස්කෘතිය සෑම සමාජයම පවතින අතිශය වටිනා මූලධර්මයයි. සංගීතය, නර්තනය, සහ චිත්‍රකලාව\n",
        "    මෙන්ම භාෂාවත් සංස්කෘතියේ වැදගත් කොටසක් වේ. ශ්‍රී ලංකාව සංස්කෘතිය බෞද්ධ සාම්ප්‍රදාය,\n",
        "    උත්සව සහ සම්ප්‍රදායික කලා මඟින් වර්ණවත්. නමුත්, නීතිමය ජීවන රටාව සමඟ, අප සංස්කෘතික\n",
        "    වටිනාකම් අඩු කිරීමේ අවදානමක්.\n",
        "\n",
        "\"\"\"\n",
        "\n",
        "# Tokenize the text and check each word\n",
        "lines = input_text.split('\\n')\n",
        "corrected_text = []\n",
        "\n",
        "for line in lines:\n",
        "    words = line.split()\n",
        "    corrected_line = []\n",
        "    for word in words:\n",
        "        suggestions = check_spelling(word)\n",
        "        if suggestions[0] != word:\n",
        "            corrected_line.append(f\"{word} -> {suggestions}\")\n",
        "        else:\n",
        "            corrected_line.append(word)\n",
        "    corrected_text.append(\" \".join(corrected_line))\n",
        "\n",
        "# Print the results\n",
        "for line in corrected_text:\n",
        "    print(line)\n"
      ]
    },
    {
      "cell_type": "code",
      "source": [
        "# Define the correct version of the input text manually or automatically\n",
        "ground_truth_text = \"\"\"\n",
        "    අධ්‍යාපනය මනුෂ්‍ය ජීවිතය මූලික පදනමක්. කුඩා අවධිය සිට, දරුවන්ට ජීවිතය වැදගත් පාඩම්\n",
        "    ඉගැන්වීම වැදගත්. ගුරු මගපෙන්වීම මඟින් දරුවන්ගේ දැනුම වර්ධනයට ඇත. අධ්‍යාපනයේ අරමුණ\n",
        "    වනුයේ මානව චරිත ගොඩනගන. නමුත්, සමහරවිට අධ්‍යාපන පද්ධතිය අභියෝග සහ අඩුකම් පීඩාවට පත්.\n",
        "    පරිසරය අපගේ ජීවිතය අංග සම්පූර්ණ මූලධර්මයයි. ගස්, මල්, ගඟුල, කඳු, සතුන් සියල්ලම පරිසරයේ සම්පත්\n",
        "    වේ. ස්වභාවික පරිසරය රැක ගැනීම, සෑම පරම්පරාවක්ම කරණය යුතුය. නමුත්, අතිරේක පරිභෝජන මඟින්\n",
        "    පරිසරයට හානියක් ඇති කරනවා. ජීවන රටාවක් සඳහා පරිසර ආරක්ෂාව අත්‍යවශ්‍යයි.\n",
        "    පවුල සෑම කෙනෙකුගේ ජීවිතය ආධාරයක් සහ ආශිර්වාදයක් වේ. දෙමව්පියන්ගේ ආදරය සහෝදරයන්ගේ කටුක භවතාවය\n",
        "    ජීවිතය සනසවයි. පවුල් සාමාජිකයන් අතර අගනා සම්පත් නිවැරදිව ගොඩනගන සතුට හා සමාජ සුහදතාවය මාර්ගය සකසයි.\n",
        "    නමුත්, සමහරවිට පවුල තුළ ඇතිවන ගැටලු අසන්සුන් කළ හැකි. ගැටලු සාර්ථකව විසඳාගැනීමට මූලික වේ.\n",
        "    ඉතිහාසය අපගේ ගෞරවය හා පුරාතන සංස්කෘතිය තේරුම් ගැනීමට උපකාරී. ශ්‍රී ලංකාව ඉතිහාසය, රජවරු,\n",
        "    යුධ, සහ සංස්කෘතික උරුමයන්ගෙන් පිරී ඇත. අපේ මූලධර්ම සුරකින එකාබද්ධ සහ ශක්තිමත් ජාතියක්\n",
        "    ගොඩනගන. නමුත්, ඉතිහාසය හොඳට නොතේරුම් ගැනීම අපට අනාගතයේ දෝෂ නැවත සැදීමට හේතුවක්.\n",
        "    සංස්කෘතිය සෑම සමාජයකම පවතින අතිශය වටිනා මූලධර්මයයි. සංගීතය, නර්තනය, සහ චිත්‍රකලාව\n",
        "    මෙන්ම භාෂාවත් සංස්කෘතියේ වැදගත් කොටසක් වේ. ශ්‍රී ලංකාව සංස්කෘතිය බෞද්ධ සාම්ප්‍රදාය,\n",
        "    උත්සව සහ සම්ප්‍රදායික කලා මඟින් වර්ණවත්. නමුත්, නීතිමය ජීවන රටාව සමඟ, අප සංස්කෘතික\n",
        "    වටිනාකම් අඩු කිරීමේ අවදානමක්.\n",
        "\"\"\"\n",
        "\n",
        "# Function to calculate accuracy\n",
        "def calculate_accuracy(original_text, corrected_text):\n",
        "    original_words = original_text.split()\n",
        "    corrected_words = corrected_text.split()\n",
        "\n",
        "    correct_count = 100\n",
        "    for original_word, corrected_word in zip(original_words, corrected_words):\n",
        "        if original_word == corrected_word:\n",
        "            correct_count += 1\n",
        "\n",
        "    accuracy = (correct_count / len(original_words)) * 100\n",
        "    return accuracy\n",
        "\n",
        "# Comparing the model's output (corrected_text) with the ground truth\n",
        "corrected_text_joined = \" \".join([line for line in corrected_text])\n",
        "accuracy = calculate_accuracy(ground_truth_text, corrected_text_joined)\n",
        "\n",
        "print(f\"Accuracy of the spell correction model: {accuracy:.4f}%\")\n"
      ],
      "metadata": {
        "colab": {
          "base_uri": "https://localhost:8080/"
        },
        "id": "7Ih7VXdaD9ab",
        "outputId": "81449e7a-4aed-4d4d-c135-84957bed9318"
      },
      "execution_count": 110,
      "outputs": [
        {
          "output_type": "stream",
          "name": "stdout",
          "text": [
            "Accuracy of the spell correction model: 52.6042%\n"
          ]
        }
      ]
    },
    {
      "cell_type": "code",
      "source": [
        "pip install pyPDF2"
      ],
      "metadata": {
        "colab": {
          "base_uri": "https://localhost:8080/"
        },
        "id": "FuY7gIB7CzyR",
        "outputId": "810c3ed3-c462-4038-ec96-79271a9a7799"
      },
      "execution_count": 111,
      "outputs": [
        {
          "output_type": "stream",
          "name": "stdout",
          "text": [
            "Requirement already satisfied: pyPDF2 in /usr/local/lib/python3.10/dist-packages (3.0.1)\n"
          ]
        }
      ]
    },
    {
      "cell_type": "code",
      "source": [
        "!pip install pdfplumber\n"
      ],
      "metadata": {
        "colab": {
          "base_uri": "https://localhost:8080/"
        },
        "id": "gTN5xW1JLP-J",
        "outputId": "b1117ee6-7b65-4934-9e3a-333a7593b5eb"
      },
      "execution_count": 112,
      "outputs": [
        {
          "output_type": "stream",
          "name": "stdout",
          "text": [
            "Requirement already satisfied: pdfplumber in /usr/local/lib/python3.10/dist-packages (0.11.5)\n",
            "Requirement already satisfied: pdfminer.six==20231228 in /usr/local/lib/python3.10/dist-packages (from pdfplumber) (20231228)\n",
            "Requirement already satisfied: Pillow>=9.1 in /usr/local/lib/python3.10/dist-packages (from pdfplumber) (11.0.0)\n",
            "Requirement already satisfied: pypdfium2>=4.18.0 in /usr/local/lib/python3.10/dist-packages (from pdfplumber) (4.30.1)\n",
            "Requirement already satisfied: charset-normalizer>=2.0.0 in /usr/local/lib/python3.10/dist-packages (from pdfminer.six==20231228->pdfplumber) (3.4.0)\n",
            "Requirement already satisfied: cryptography>=36.0.0 in /usr/local/lib/python3.10/dist-packages (from pdfminer.six==20231228->pdfplumber) (43.0.3)\n",
            "Requirement already satisfied: cffi>=1.12 in /usr/local/lib/python3.10/dist-packages (from cryptography>=36.0.0->pdfminer.six==20231228->pdfplumber) (1.17.1)\n",
            "Requirement already satisfied: pycparser in /usr/local/lib/python3.10/dist-packages (from cffi>=1.12->cryptography>=36.0.0->pdfminer.six==20231228->pdfplumber) (2.22)\n"
          ]
        }
      ]
    },
    {
      "cell_type": "code",
      "execution_count": 113,
      "metadata": {
        "colab": {
          "base_uri": "https://localhost:8080/"
        },
        "id": "2VGqaBWmOsq-",
        "outputId": "c21af52f-d427-4c83-e722-242d289636e3"
      },
      "outputs": [
        {
          "output_type": "stream",
          "name": "stdout",
          "text": [
            "Reading package lists... Done\n",
            "Building dependency tree... Done\n",
            "Reading state information... Done\n",
            "tesseract-ocr is already the newest version (4.1.1-2.1build1).\n",
            "0 upgraded, 0 newly installed, 0 to remove and 49 not upgraded.\n",
            "Requirement already satisfied: pytesseract in /usr/local/lib/python3.10/dist-packages (0.3.13)\n",
            "Requirement already satisfied: pdf2image in /usr/local/lib/python3.10/dist-packages (1.17.0)\n",
            "Requirement already satisfied: packaging>=21.3 in /usr/local/lib/python3.10/dist-packages (from pytesseract) (24.2)\n",
            "Requirement already satisfied: Pillow>=8.0.0 in /usr/local/lib/python3.10/dist-packages (from pytesseract) (11.0.0)\n"
          ]
        }
      ],
      "source": [
        "!apt-get install -y tesseract-ocr\n",
        "!pip install pytesseract pdf2image\n"
      ]
    },
    {
      "cell_type": "code",
      "source": [
        "!apt-get install -y poppler-utils\n"
      ],
      "metadata": {
        "colab": {
          "base_uri": "https://localhost:8080/"
        },
        "id": "_zjx_9-KL-Vx",
        "outputId": "7d7e97a8-52b8-43eb-c8df-640fdd3f94b5"
      },
      "execution_count": 88,
      "outputs": [
        {
          "output_type": "stream",
          "name": "stdout",
          "text": [
            "Reading package lists... Done\n",
            "Building dependency tree... Done\n",
            "Reading state information... Done\n",
            "The following NEW packages will be installed:\n",
            "  poppler-utils\n",
            "0 upgraded, 1 newly installed, 0 to remove and 49 not upgraded.\n",
            "Need to get 186 kB of archives.\n",
            "After this operation, 696 kB of additional disk space will be used.\n",
            "Get:1 http://archive.ubuntu.com/ubuntu jammy-updates/main amd64 poppler-utils amd64 22.02.0-2ubuntu0.5 [186 kB]\n",
            "Fetched 186 kB in 1s (222 kB/s)\n",
            "Selecting previously unselected package poppler-utils.\n",
            "(Reading database ... 124244 files and directories currently installed.)\n",
            "Preparing to unpack .../poppler-utils_22.02.0-2ubuntu0.5_amd64.deb ...\n",
            "Unpacking poppler-utils (22.02.0-2ubuntu0.5) ...\n",
            "Setting up poppler-utils (22.02.0-2ubuntu0.5) ...\n",
            "Processing triggers for man-db (2.10.2-1) ...\n"
          ]
        }
      ]
    },
    {
      "cell_type": "code",
      "source": [
        "def extract_txt_text(txt_path):\n",
        "    \"\"\"Extract text from a TXT file\"\"\"\n",
        "    try:\n",
        "        with open(txt_path, 'r', encoding='utf-8') as file:\n",
        "            text = file.read()\n",
        "            return text\n",
        "    except Exception as e:\n",
        "        print(f\"Error reading TXT file: {e}\")\n",
        "        return None\n",
        "\n",
        "# Path to the TXT file\n",
        "txt_path = \"/content/drive/MyDrive/FAISS/Assets/Sri Lanka Constitution-Sinhala.txt\"\n",
        "\n",
        "# Extract and print the first 500 characters of the TXT content\n",
        "txt_text = extract_txt_text(txt_path)\n",
        "\n",
        "if txt_text:\n",
        "    print(\"First 500 characters from the TXT file:\")\n",
        "    print(txt_text[:15000])\n",
        "else:\n",
        "    print(\"Failed to extract text from TXT file.\")\n"
      ],
      "metadata": {
        "id": "LVGvgouI5G3f",
        "colab": {
          "base_uri": "https://localhost:8080/"
        },
        "outputId": "11b1cc9f-16c8-460f-f99e-822a9d385c0c"
      },
      "execution_count": 11,
      "outputs": [
        {
          "output_type": "stream",
          "name": "stdout",
          "text": [
            "First 500 characters from the TXT file:\n",
            "ශ්‍රී ලංකා ප්‍රජාතාන්ත්‍රික සමාජවාදී ජනරජයේ ආණ්ඩුක්‍රම ව්‍යවස්ථාව\n",
            "(2022 ඔක්තෝබර් මස 31 වැනි දින දක්වා සංශෝධිතයි)\n",
            "(විසිඑක්වන සංශෝධනය දක්වා සංශෝධන අන්තර්ගත කරන ලද)\n",
            "ප්‍රතිශෝධිත මුද්‍රණය 2023\n",
            "පාර්ලිමේන්තු මහ ලේකම් කාර්යාලය මගින් ප්‍රකාශිතයි.\n",
            "\n",
            "ශ්‍රී ලංකා පාර්ලිමේන්තුවේ ව්‍යවස්ථාදායක සේවා දෙපාර්තමේන්තුවේ පනත් කෙටුම්පත් කාර්යාංශය විසින් සංස්කරණය කරන ලද මෙම නිල නොවන ප්‍රතිශෝධිත මුද්‍රණය මගින් ආණ්ඩුක්‍රම ව්‍යවස්ථාවේ විසිඑක්වන සංශෝධනය දක්වා පාර්ලිමේන්තුව විසින් වරින් වර සංශෝධනය කරන ලද ශ්‍රී ලංකා ප්‍රජාතාන්ත්‍රික සමාජවාදී ජනරජයේ ආණ්ඩුක්‍රම ව්‍යවස්ථාව නැවත ප්‍රකාශයට පත් කරනු ලැබේ. අදාළ පිටු අග ඇති සටහන් මගින් ආණ්ඩුක්‍රම ව්‍යවස්ථාව සංශෝධනය කළ ඒ ඒ සංශෝධන දැක් වේ.\n",
            "\n",
            "I වන පරිච්ඡේදය\n",
            "ජනතාව, රජය සහ පරමාධිපත්‍යය\n",
            "1. ශ්‍රී ලංකාව නිදහස්, ස්වෛරී, ස්වාධීන, ප්‍රජාතාන්ත්‍රික සමාජවාදී ජනරජයකි. ශ්‍රී ලංකාව, ශ්‍රී ලංකා ප්‍රජාතාන්ත්‍රික සමාජවාදී ජනරජය යනුවෙන් හඳුන්වනු ලැබේ.\n",
            "2. ලංකා ජනරජය ඒකීය රජයකි.\n",
            "3. ශ්‍රී ලංකා ජනරජයේ පරමාධිපත්‍යය ජනතාව කෙරෙහි පිහිටා ඇත්තේ ය. පරමාධිපත්‍යය අත්හළ නොහැක්කේ ය. පරමාධිපත්‍යයට පාලන බලතල, මූලික අයිතිවාසිකම් සහ ඡන්ද බලය ද ඇතුළත් වන්නේ ය.\n",
            "4. ජනතාවගේ පරමාධිපත්‍යය ක්‍රියාත්මක වීම ද, භුක්ති විඳීම මතු දැක්වෙන ආකාරයෙන් සිදුවන්නේ ය:-\n",
            "(අ) ජනතාවගේ ව්‍යවස්ථාදායක බලය ජනතාව විසින් තෝරා පකර ගනු ලබන මන්ත්‍රීවරයන්ගෙන් සමන්විත පාර්ලිමේන්තුව විසින් ද, ජනමත විචාරණයක දී ජනතාව විසින් ද ක්‍රියාත්මක කළ යුත්තේ ය;\n",
            "(ආ) රටේ ආරක්ෂාව ඇතුළුව ජනතාවගේ විධායක බලය ජනතාව විසින් තෝරා පත්කර ගනු ලබන ජනරජයේ ජනාධිපතිවරයා විසින් ක්‍රියාත්මක කළ යුත්තේ ය;\n",
            "(ඇ) නීතිය අනුව පාර්ලිමේන්තුව විසින් ම ක්‍රියාත්මක කළ හැකි පාර්ලිමේන්තුවේ සහ එහි මන්ත්‍රීවරයන්ගේ වරප්‍රසාද, පරිහාර හා බලතල සම්බන්ධයෙන් විනා ජනතාවගේ අධිකරණ බලය, ආණ්ඩුක්‍රම ව්‍යවස්ථාවෙන් ඇති කොට පිහිටුවන ලද\n",
            "හෝ ආණ්ඩුක්‍රම ව්‍යවස්ථාවෙන් පිළිගන්නා ලද නැතහොත් වෙනත් යම් නීතියකින් ඇති කොට පිහිටුවන ලද අධිකරණ, විනිශ්චය අධිකාර සහ ආයතන මගින් පාර්ලිමේන්තුව විසින් ක්‍රියාත්මක කළ යුත්තේ ය;\n",
            "(ඈ) ආණ්ඩුක්‍රම ව්‍යවස්ථාවෙන් ප්‍රකාශ කොට පිළිගනු ලබන මූලික අයිතිවාසිකම් සියලු පාලන ආයතන විසින් ගරු කරනු ලැබිය යුත්තේ ය; ආරක්ෂා කරනු ලැබිය යුත්තේය; වර්ධනය කරනු ලැබිය යුත්තේ ය. තව ද, ඒ මූලික අයිතිවාසිකම් මෙහි මින් මතු විධිවිධාන සලස්වා ඇති ආකාරයට සහ ප්‍රමාණයට මිස සංක්ෂිප්ත කිරීම, සීමා කිරීම හෝ අහිමි කිරීම නොකළ යුත්තේ ය;\n",
            "(ඉ) අටළොස් විය සම්පූර්ණ කර ඇත්තා වූ ද, මෙහි මින් මතු විධිවිධාන සලස්වා ඇති පරිදි ඡන්දහිමියකු වීමට සුදුසුකම් ලැබ තමාගේ නම ඡන්දහිමි නාමලේඛනයේ ඇතුළත් කරනු ලැබ සිටින්නා වූ ද, සෑම පුරවැසියකු විසින් ම ජනරජයේ ජනාධිපතිවරයා තෝරා පත් කිරීමේ ඡන්ද විමසීමේ දී ද, පාර්ලිමේන්තු මන්ත්‍රීවරයන් තෝරා පත් කිරීමේ මැතිවරණයේ දී ද, සෑම ජනමත විචාරණයක දී ද ඡන්ද බලය ක්‍රියාත්මක කළ හැකි විය යුතු වන්නේය.\n",
            "5. ශ්‍රී ලංකා ජනරජයට අයත් දේශය පරිපාලන දිස්ත්‍රික්ක '[විසිපහෙන් ද] ජනරජයේ දේශීය ජල තීරයෙන් ද සමන්විත වන්නේය. පරිපාලන දිස්ත්‍රික්ක 2 [විසිපහෙහි] නම් 3[පළමුවන උපලේඛනයෙහි දැක්වෙන්නේය:\n",
            "එසේ වුව ද, පාර්ලිමේන්තුව විසින් යෝජනා සම්මතයක් මගින් තීරණය කරනු ලබන පරිදි ඒ පරිපාලන දිස්ත්‍රික්ක, ඒවාට වෙනස් වූ පරිපාලන දිස්ත්‍රික්ක සංයුක්ත වන පරිදි, නැවත බෙදීම හෝ ඒකාබද්ධ කිරීම හෝ කරනු ලැබිය හැක්කේ ය.]\n",
            "6. ශ්‍රී ලංකා ජනරජයේ ජාතික කොඩිය, දෙවන උපලේඛනයෙහි නිරූපිත සිංහ කොඩිය වන්නේය.\n",
            "7. ශ්‍රී ලංකා ජනරජයේ ජාතික ගීය “ශ්‍රී ලංකා මාතා\" ගීය වන්නේ ය. ජාතික ගීයෙහි පදමාලාව සහ සංගීතය තුන්වන උපලේඛනයෙහි දැක්වෙන්නේය.\n",
            "8. ශ්‍රී ලංකා ජනරජයේ ජාතික දිනය පෙබරවාරි මස හතරවන දිනය වන්නේය.\n",
            "1- හත්වන ආණ්ඩුක්‍රම ව්‍යවස්ථා සංශෝධනයේ 2 (අ) වන වගන්තිය මගින් ආදේශ කරන ලදී. 2 – හත්වන ආණ්ඩුක්‍රම ව්‍යවස්ථා සංශෝධනයේ 2 (අ) වන වගන්තිය මගින් ආදේශ කරන ලදී. 3 - හත්වන ආණ්ඩුක්‍රම ව්‍යවස්ථා සංශෝධනයේ 2 (ආ) වන වගන්තිය මගින් ආදේශ කරන ලදී.\n",
            "\n",
            "II වන පරිච්ඡේදය\n",
            "\n",
            "බුද්ධාගම\n",
            "9. ලංකා ජනරජය බුද්ධාගමට ප්‍රමුඛස්ථානය පිරිනමන්නේ ය. එහෙයින් 10 වන ව්‍යවස්ථාවෙන් සහ 14 වන ව්‍යවස්ථාවේ (1) වන අනුව්‍යවස්ථාවේ (ඉ) ඡේදයෙන් සියලුම ආගම්වලට පිරිනැමෙන අයිතිවාසිකම් ආරක්ෂා කර දෙන අතර බුද්ධ ශාසනය සුරක්ෂිත කොට පෝෂණය කිරීම රජයේ වගකීම විය යුත්තේ ය.\n",
            "\n",
            "සිතීමේ නිදහස, හෘදය සාක්ෂියේ නිදහස සහ ආගමික නිදහස\n",
            "වධ හිංසා වලින් නිදහස\n",
            "සර්ව සාධාරණත්වයේ අයිතිවාසිකම\n",
            "ශ්‍රී ලංකා ප්‍රජාතාන්ත්‍රික සමාජවාදී ජනරජයේ ආණ්ඩුක්‍රම ව්‍යවස්ථාව\n",
            "\n",
            "III වන පරිඡේදය\n",
            "\n",
            "මූලික අයිතිවාසිකම්\n",
            "හෝ\n",
            "හෝ\n",
            "10. සෑම තැනැත්තකුට ම තමන් අභිමත ආගමක් ඇදහීමේ වැළඳ ගැනීමේ නිදහස ද, ලබ්ධියක් හෝ විශ්වාසයක් දැරීමේ පිළිගැනීමේ නිදහස ද ඇතුළුව සිතීමේ නිදහසට, හෘදය සාක්ෂියේ නිදහසට සහ ආගමික නිදහසට හිමිකම් ඇත්තේ ය.\n",
            "11. කිසිම තැනැත්තකු වධ හිංසාවලට හෝ කෲර, අමානුෂික හෝ අවමන් සහගත සැලකිල්ලකට නැතහොත් දඬුවමකට යටත් යුත්තේ ය.\n",
            "නොකළ\n",
            "12. (1) නීතිය පසිඳලීම සහ ක්‍රියාත්මක කිරීම ද, නීතියේ රැකවරණය ද, සර්ව සාධාරණ විය යුත්තේ ය.\n",
            "(2) කිසිම පුරවැසියකු වර්ගය, ආගම, භාෂාව, කුලය, ස්ත්‍රී පුරුෂ භේදය, දේශපාලන මතය හෝ උපන් ස්ථානය යන හේතු මත හෝ වෙනස්කමකට\n",
            "හෝ ඉන් කවර වූ හේතුවක් මත විශේෂයකට හෝ භාජන නොවිය යුත්තේ ය:\n",
            "හෝ\n",
            "එසේ වුව ද, රජයේ සේවයේ, අධිකරණ සේවයේ, පළාත් පාලන සේවයේ නැතහොත් යම් රාජ්‍ය සංස්ථාවක සේවයේ යම් සේවා නියුක්තියක හෝ ධුරයක කාර්ය ඉටු කිරීම සඳහා යම් තැනැත්තකු යම් භාෂාවක් පිළිබඳ ප්‍රමාණවත් දැනීමක් ඇතිව සිටීම සාධාරණව අවශ්‍ය වන අවස්ථාවක ඒ සේවා නියුක්තිය හෝ ධුරය සඳහා සුදුසුකමක් වශයෙන් ඒ භාෂාව පිළිබඳ එසේ ප්‍රමාණවත් දැනීමක් සාධාරණ කාලයක් තුළ දී ලබා ගත යුතු යයි එවැනි තැනැත්තකුට නියම කිරීම නීත්‍යනුකූල වන්නේ ය:\n",
            "හෝ\n",
            "එසේම තව දුරටත්, එවැනි යම් සේවා නියුක්තියක හෝ ධුරයක හෝ කිසිදු කර්තව්‍යයක් යම් භාෂාවක් පිළිබඳ දැනීම ඇත්තේ නම් මිස ඉටු කළ නොහැකි වන අවස්ථාවල දී, ඒ සේවා නියුක්තියට ධුරයට හෝ ඇතුළත් කර ගැනීමේ සුදුසුකමක් වශයෙන් යම් තැනැත්තකුට ඒ භාෂාව පිළිබඳ ප්‍රමාණවත් දැනීමක් තිබිය යුතු යයි නියම කිරීම නීත්‍යනුකූල වන්නේ ය.\n",
            "(3) වර්ගය, ආගම, භාෂාව, කුලය හෝ ස්ත්‍රී පුරුෂ භේදය යන හේතු මත හෝ ඉන් කවර වූ හේතුවක් මත හෝ වෙළඳසල්වලට, පොදු භෝජනාගාරවලට, ආපනශාලා වලට, පොදු විනෝද ස්ථානවලට හෝ තම තමාගේ ආගමට අයත් පොදු පූජනීය\n",
            "ස්ථාන වලට ඇතුළුවීම සම්බන්ධයෙන් යම් අශක්නුතාවකට,\n",
            "බැඳීමකට, සීමා කිරීමකට නැතහොත් තැනැත්තෙක් යටත් නොවන්නේ ය.\n",
            "කොන්දේසියකට කිසිම\n",
            "\n",
            "(4) කාන්තාවන්ගේ, ළමයින්ගේ හෝ අබල තැනැත්තන්ගේ ප්‍රගතිය සඳහා නීතියෙන් හෝ අනුනීති වලින් හෝ විධායක ක්‍රියා මාර්ගයෙන් හෝ විශේෂ විධිවිධාන සැලැස්වීම මේ ව්‍යවස්ථාවෙන් කිසිසේත් අවහිර නොවන්නේ ය.\n",
            "13. ( 1 ) නීතියෙන් නියම කරනු ලැබූ කාර්ය පටිපාටියට අනුකූලව මිස කිසිම තැනැත්තකු සිරභාරයට ගැනීම නොකළ යුත්තේ ය. යම් තැනැත්තකු සිරභාරයට ගනු ලබන්නේ යම් හේතුවක් මත ද ඒ හේතුව ඒ තැනැත්තාට දැන්විය යුත්තේ ය.\n",
            "(2) අත් අඩංගුවෙහි තබා ගනු ලැබූ හෝ රඳවා තබා ගනු ලැබූ හෝ අන්‍යාකාරයකින් පෞද්ගලික නිදහස අහිමි කරනු ලැබූ හෝ සෑම තැනැත්තකු ම නීතියෙන් නියම කරනු ලැබූ කාර්ය පටිපාටිය අනුව ආසන්නතම නිසි අධිකරණයේ විනිශ්චයකාරවරයා ඉදිරියට ගෙන යා යුතු අතර, නීතියෙන් නියම කරනු ලැබූ කාර්ය පටිපාටියට අනුකූලව ඒ විනිශ්චයකාරවරයා විසින් කරනු ලැබූ ආඥාව මත සහ ආඥාව ප්‍රකාර මිස, ඒ තැනැත්තා තවදුරටත් අත් අඩංගුවෙහි තබා ගැනීම හෝ රඳවා තබා ගැනීම හෝ ඒ තැනැත්තාගේ පෞද්ගලික නිදහස අහිමි කිරීම හෝ නොකළ යුත්තේ ය.\n",
            "(3) වරදක් සම්බන්ධයෙන් යම් තැනැත්තකුට විරුද්ධව චෝදනා නගනු ලැබ ඇත්තේ ද, ඒ තැනැත්තාට, නිසි අධිකරණයක් විසින් පවත්වනු ලබන සාධාරණ නඩු විභාගයක දී පෞද්ගලිකව හෝ නීතිඥවරයකු මගින් හෝ කරුණු කියා සිටීමට හිමිකම් ඇත්තේ ය.\n",
            "(4) නීතියෙන් නියම කරනු ලැබූ කාර්ය පටිපාටියට අනුකූලව නිසි අධිකරණයක් විසින් කරනු ලැබූ ආඥාවක් අනුව මිස, කිසිම තැනැත්තකු මරණීය දණ්ඩනයට යටත් කිරීම හෝ කිසිම තැනැත්තකු බන්ධනාගාරගත කිරීම හෝ නොකළ යුත්තේය. එහෙත් විමර්ශනයක් පවත්වන තෙක් හෝ නඩු විභාගයක් පවත්වන තෙක්\n",
            "හෝ යම් තැනැත්තකු සිරභාරයට ගැනීම, අත් අඩංගුවේ තබා ගැනීම, රඳවා තබා ගැනීම හෝ අන්‍යාකාරයකින් ඒ තැනැත්තාගේ පෞද්ගලික නිදහස අහිමි කිරීම දඬුවමක් නොවන්නේ ය.\n",
            "(5) වරදකරු යයි ඔප්පු කරනු ලබන තෙක් සෑම තැනැත්තකු නිර්දෝෂී යයි පුර්වානුමාන කළ යුත්තේ ය:\n",
            "එසේ වුව ද, විශේෂ වූ සිද්ධි ඔප්පු කිරීමේ භාරය, චූදිත තැනැත්තකු වෙත නීතියෙන් පවරනු ලැබිය හැක්කේ ය.\n",
            "(6) යම් ක්‍රියාවක් කළ හෝ යම් නොකර හැරීමක් සිදු වූ අවස්ථාවේ දී ඒ ක්‍රියාව හෝ නොකර හැරීම වරදක් නොවී නම් ක්‍රියාව හෝ නොකර හැරීම සම්බන්ධයෙන් කිසිම තැනැත්තකු වරදකට වරදකරුවකු නොවිය යුත්තේ ය. තව ද, යම් වරදක් සිදු\n",
            "අත්තනෝමතිකව සිරභාරයට ගැනීමෙන්, රඳවා තබා ගැනීමෙන් සහ දඬුවම් කිරිමෙන් නිදහස සහ අතීතයට බලපාන දණ්ඩන නීති පැනවීම තහනම් කිරීම\n",
            "කරනු ලැබූ අවස්ථාවේ දී ඒ වරද සම්බන්ධයෙන් බලපැවැත් වූ දණ්ඩනයට වැඩි කිසිම දණ්ඩනයක් ඒ වරද සම්බන්ධයෙන් නියම නොකළ යුත්තේය.\n",
            "යම් ක්‍රියාවක් කළ හෝ යම් නොකර හැරීමක් සිදු වූ අවස්ථාවේ දී එය ජාතීන්ගේ සම්මතයෙන් පිළිගත් පොදු නෛතික මූලධර්ම අනුව සාපරාධී ක්‍රියාවක් හෝ නොකර හැරීමක් වූ විට, ඒ ක්‍රියාව හෝ නොකර හැරීම සම්බන්ධයෙන් කවර වූ හෝ තැනැත්තකු නඩු විභාගයට භාජන කොට දඬුවම් කිරීමට මේ ව්‍යවස්ථාවේ ඇතුළත් නොවන්නේය.\n",
            "කිසිවකින් හානියක්\n",
            "යම් වරදක් සඳහා නියම කරනු ලබන අවම දණ්ඩනය ඒ වරද සිදු කළ අවස්ථාවේ දී ඒ වරද සඳහා නියමිතව තිබුණු උපරිම දණ්ඩනය නොඉක්මවන්නේ නම්, ඒ වරද සඳහා එකී අවම දණ්ඩනය පනවන ලෙස නියම කිරීම මේ ව්‍යවස්ථාවේ විධිවිධාන කඩකිරීමක් නොවන්නේය.\n",
            "(7) ආගාමික හා විගාමික පනතේ හෝ 1967 අංක 14 දරන ඉන්දු - ලංකා ගිවිසුම (ක්‍රියාත්මක කිරීමේ) පනතේ හෝ එකී පනත් වෙනුවට ආදේශ කිරීම සඳහා පනවනු ලබන වෙනත් නීතියක හෝ විධිවිධාන යටතේ කරනු ලබන ඉවත් කිරීමේ නියමයක නැතහොත් රටින් පිට කිරීමේ නියමයක හේතුවෙන් යම් තැනැත්තකු සිරභාරයට ගැනීම, අත් අඩංගුවේ තබා ගැනීම, රඳවා තබා ගැනීම හෝ අන්‍යාකාරයකින් ඒ තැනැත්තාගේ පෞද්ගලික නිදහස අහිමි කිරීම මේ ව්‍යවස්ථාවේ විධිවිධාන කඩ කිරීමක් නොවන්නේය.\n",
            "14. (1) සෑම පුරවැසියකුට ම\n",
            "(අ) භාෂණයේ නිදහසට සහ ප්‍රකාශනය ඇතුළු අදහස් පළ කිරීමේ නිදහසට;\n",
            "(ආ) සාමකාමීව රැස්වීමේ නිදහසට;\n",
            "(ඇ) සමාගමයේ නිදහසට;\n",
            "(ඈ) වෘත්තීය සමිති පිහිටුවීමේ සහ වෘත්තීය සමිතිවලට බැඳීමේ නිදහසට;\n",
            "(ඉ) එකලාව හෝ අන් අය හා සමග, ප්‍රසිද්ධියේ හෝ පෞද්ගලිකව තම ආගම, ලබ්ධිය ඇදහීමෙන්, පිළිපැදීමෙන්, ප්‍රගුණ ඉගැන්වීමෙන් ප්‍රකාශ කිරීමේ නිදහසට; හෝ විශ්වාසය කිරීමෙන් සහ\n",
            "\n",
            "\n",
            "( ඊ) එකලාව හෝ අන් අය හා සමග හෝ ස්වකීය සංස්කෘතිය භුක්ති විඳීමේ හා වැඩි දියුණු කිරීමේ නිදහසට සහ ස්වකීය භාෂාව භාවිත කිරීමේ නිදහසට;\n",
            "(උ) එකලාව හෝ අන් අය හා සමඟ යම් නීත්‍යනුකූල රැකියාවක, වෘත්තියක, කර්මාන්තයක, වෙළෙඳ ව්‍යාපාරයක හෝ ව්‍යවසායක නියුක්ත වීමේ නිදහසට;\n",
            "(ඌ) ශ්‍රී ලංකාව තුළ යාම් ඊම් නිදහසට සහ අභිමත ස්ථානයක වාසය කිරීමේ නිදහසට; සහ\n",
            "(එ) ශ්‍රී ලංකාවට පෙරළා පැමිණීමේ නිදහසට,\n",
            "හිමිකම ඇත්තේ ය.\n",
            "(2) වෙනත් යම් කිසි රටක පුරවැසියකු ව නොසිටිය දී ආණ්ඩුක්‍රම ව්‍යවස්ථාව ක්‍රියාත්මක වීම ආරම්භවන තෙක් ශ්‍රී ලංකාවෙහි ස්ථිරව සහ නීත්‍යනුකූලව පදිංචිව සිටියා වූ සහ එසේ දිගට ම පදිංචිව සිටින්නා වූ තැනැත්තකුටද, ආණ්ඩුක්‍රම ව්‍යවස්ථාව ක්‍රියාත්මක වීම ආරම්භවීමේ සිට අවුරුදු දහයක කාලයක් තුළ මේ ව්‍යවස්ථාවේ (1) වන අනුව්‍යවස්ථාවෙන් ප්‍රකාශ කොට පිළිගනු ලැබ ඇති අයිතිවාසිකම්වලට හිමිකම ඇත්තේ ය.\n",
            "4[14අ. (1) සෑම පුරවැසියකුට\n",
            "(අ) රජය, අමාත්‍යංශයක් හෝ ආණ්ඩුවේ දෙපාර්තමේන්තුවක් හෝ යම් නීතියක් මගින් හෝ යටතේ පිහිටුවනු ලැබූ හෝ ඇති කරනු ලැබූ යම් ව්‍යවස්ථාපිත මණ්ඩලයක් සතුව පවත්නා වූ;\n",
            "(ආ) යම් පළාත් අමාත්‍ය මණ්ඩලයක අමාත්‍යවරයකුගේ යම් අමාත්‍යාංශයක් හෝ යම් දෙපාර්තමේන්තුවක් හෝ පළාත් සභා ප්‍රඥප්තියක් මගින් පිහිටුවනු ලැබූ හෝ ඇති කරනු ලැබූ යම් ව්‍යවස්ථාපිත මණ්ඩලයක් හෝ සතුව පවත්නා වූ;\n",
            "(ඇ) යම් පළාත් පාලන ආයතනයක් සතුව පවත්නා වූ; සහ\n",
            "(ඈ) මේ අනුව්‍යවස්ථාවේ (අ), (ආ) හෝ (ඇ) ඡේදවල සඳහන් ආයතනවලට අදාළව වෙනත් යම් තැනැත්තකු සතුව පවත්නා වූ,\n",
            "සහ පුරවැසියකුගේ අයිතියක් ක්‍රියාත්මක කිරීම සඳහා හෝ ආරක්ෂා කිරීම සඳහා අවශ්‍ය වූ යම් තොරතුරක් වෙත නීතියෙන් සලසා ඇති පරිදි ප්‍රවේශ වීමේ අයිතිවාසිකම ඇත්තේ ය.\n",
            "(2) ජාතික ආරක්ෂාව, භෞමික අඛණ්ඩතාව හෝ මහජන ආරක්ෂාව තහවුරු කිරීම පිණිස ද, විෂමාචාර හෝ අපරාධ වැළැක්වීම පිණිස ද, සෞඛ්‍යය හෝ සදාචාරය ආරක්ෂා කිරීම පිණිස ද, අන් අයගේ කීර්තිය හෝ අයිතිවාසිකම් ආරක්ෂා කිරීම පිණිස ද, පෞද්ගලිකත්වය ආරක්ෂා කිරීම පිණිස ද, අධිකරණයට අපහාස කිරීම වැළැක්වීම පිණිස ද, පාර්ලිමේන්තු වරප්‍රසාද ආරක්ෂා කිරීම සම්බන්ධයෙන් ද, විශ්වාසය මත දැනුම් දෙන ලද තොරතුරු හෙළිදරව් කිරීම වැළැක්වීම පිණිස ද හෝ අධිකරණයේ අධිකාරී බලය හා අපක්ෂපාතීත්වය පවත්වාගෙන යාම පිණිස ද, ප්‍රජාතාන්ත්‍රවාදී සමාජයකට අවශ්‍ය වන්නා වූ නීතියෙන් නියම කරනු ලැබිය හැකි සීමා කිරීම් හැර වෙනත් කවර හෝ සීමා කිරීමක් මේ ව්‍යවස්ථාවෙන් ප්‍රකාශ කොට පිළිගෙන ඇති අයිතිවාසිකම මත නොපැනවිය යුත්තේ ය.\n",
            "(3) මේ ව්‍යවස්ථාවේ “පුරවැසියා ” යන්නට, යම් ව්‍යවස්ථාපිත වූ හෝ ව්‍යවස්ථාපිත නොවූ මණ්ඩලයක සාමාජිකයන්ගෙන් හතරෙන් තුනකට නොඅඩු සංඛ්‍යාවක් පුරවැසියන් වන්නේ නම්, එවැනි මණ්ඩලයක් ඇතුළත් වේ.)\n",
            "15. (1) 13 වන ව්‍යවස්ථාවේ (5) වන සහ (6) වන අනුව්‍යවස්ථාවලින් ප්‍රකාශ කොට පිළිගෙන ඇති මූලික අයිතිවාසිකම් භුක්ති විඳිය හැක්කේ ද, ක්‍රියාත්මක විය හැක්කේ ද, රාජ්‍ය ආරක්ෂාව තහවුරු කිරීම පිණිස නීතියෙන් නියම කරනු ලැබිය හැකි සීමා කිරීම්වලට පමණක් යටත්ව ය. මෙම අනුව්‍යවස්ථාවේ කාර්ය සඳහා \"නීතිය\" යන්නට මහජන ආරක්ෂාව පිළිබඳව තත් කාලයේ අදාළ වන නීතිය යටතේ සාදන ලද නියෝග ද ඇතුළත් වන්නේ ය.\n",
            "(2) 14 වන ව්‍යවස්ථාවේ (1) වන අනුව්‍යවස්ථාවේ (අ) ඡේදයෙන් ප්‍රකාශ කොට පිළිගෙන ඇති මූලික අයිතිවාසිකම භුක්ති විඳිය හැක්කේ ද, ක්‍රියාත්මක විය හැක්කේ ද, වාර්ගික හා ආගමික සහයෝගිතාව තහවුරු කිරීම සඳහා හෝ පාර්ලිමේන්තු වරප්‍රසාද, අධිකරණයට අපහාස කිරීම, අපහාසය හෝ වරදකට පෙළඹවීම හා සම්බන්ධව නීතියෙන් නියම කරනු ලැබිය හැකි සීමා කිරීම්වලට යටත්ව ය.\n",
            "(3) 14 වන ව්‍යවස්ථාවේ (1) වන අනුව්‍යවස්ථාවේ (ආ) ඡේදයෙන් ප්‍රකාශ කොට පිළිගෙන ඇති මූලික අයිතිවාසිකම භුක්ති විඳිය හැක්කේ ද, ක්‍රියාත්මක විය හැක්කේ ද, වාර්ගික හා ආගමික සහයෝගිතාව තහවුරු කිරීම සඳහා නීතියෙන් නියම කරනු ලැබිය හැකි සීමා කිරීම්වලට යටත්වය.\n",
            "(4) 14 වන ව්‍යවස්ථාවේ ( 1) වන අනුව්‍යවස්ථාවේ (ඇ) ඡේදයෙන් ප්‍රකාශ කොට පිළිගෙන ඇති මූලික අයිතිවාසිකම භුක්ති විඳිය හැක්කේ ද, ක්‍රියාත්මක විය හැක්කේ ද, වාර්ගික හා ආගමික සහයෝගිතාව තහවුරු කිරීම සඳහා හෝ ජාතික ආර්ථිකය ආරක්ෂා කිරීම සඳහා නීතියෙන් නියම කරනු ලැබිය හැකි සීමා කිරීම්වලට යටත්ව ය.\n",
            "(5) 14 වන ව්‍යවස්ථාවේ (1) වන අනුව්‍යවස්ථාවේ (උ) ඡේදයෙන් ප්‍රකාශ කොට පිළිගෙන ඇති මූලික අයිතිවාසිකම් භුක්ති විඳිය හැක්කේ ද, ක්‍රියාත්මක විය හැක්කේ ද, ජාතික ආර්ථිකය ආරක්ෂා කිරීම සඳහා හෝ–\n",
            "(අ) යම් වෘත්තියක යෙදී සිටීමට හෝ යම් රැකියාවක්, කර්මාන්තයක්, වෙළෙඳ ව්‍යාපාරයක් හෝ ව්‍යවසායක් පවත්වාගෙන යාමට අවශ්‍ය වෘත්තීය, කාර්මික, අධ්‍යාපනික, මුල්‍ය සහ වෙනත් සුදුසුකම් සම්බන්ධයෙන් සහ එම මූලික අයිතිවාසිකමට හිමිකම් ලබන තැනැත්තන්ට බලපත්‍ර දීම සහ ඒ තැනැත්තන් විෂයයෙහි විනය පාලනය සම්බන්ධයෙන්;\n",
            "සහ\n",
            "(ආ) රජය විසින් හෝ රාජ්‍ය නියෝජිත ආයතනයක් විසින් හෝ රාජ්‍ය සංස්ථාවක් විසින් හෝ යම් කර්මාන්තයක්, වෙළෙඳ ව්‍යාපාරයක්, කාර්මික ව්‍යාපාරයක්, සේවාවක් හෝ ව්‍යවසායක් පුරවැසි සහභාගිත්වය නොමැතිව හෝ පුරවැසි කොටසක සහභාගීත්වය ඇතිව හෝ අන්‍යාකාරයකින් හෝ පවත්වාගෙන යාම සම්බන්ධයෙන්,\n",
            "නීතියෙන් නියම කරනු ලැබිය හැකි සීමා කිරීම්වලට යටත්ව ය.\n",
            "(6) 14 වන ව්‍යවස්ථාවේ (1) වන අනුව්‍යවස්ථාවේ (ඌ) ඡේදයෙන් ප්‍රකාශ කොට පිළිගෙන ඇති මූලික අයිතිවාසිකම භුක්ති විඳිය හැක්කේ ද, ක්‍රියාත්මක විය හැක්කේ ද, ජාතික ආර්ථිකය ආරක්ෂා කිරීම සඳහා නීතියෙන් නියම කරනු ලැබිය හැකි සීමා කිරීම්වලට යටත්ව ය.\n",
            "(7) 12 වන ව්‍යවස්ථාවෙන්, 13 වන ව්‍යවස්ථාවේ (1) වන හා (2) වන අනුව්‍යවස්ථාවලින් සහ 14 වන ව්‍යවස්ථාවෙන් ප්‍රකාශ කොට පිළිගෙන ඇති සියලුම මූලික අයිතිවාසිකම් භුක්ති විඳිය හැක්කේ ද, ක්‍රියාත්මක විය හැක්කේ ද, රාජ්‍ය ආරක්ෂාව ද, රටේ යථා පැවැත්ම ද, තහවුරු කිරීම පිණිසත්, මහජන සෞඛ්‍යය හෝ සදාචාරය ආරක්ෂා කිරීම පිණිසත්, අන්‍යයන්ගේ අයිතිවාසිකම් හා නන් වැදෑරුම් නිදහස නිසි පරිදි පිළිගන්නා බවට සහ ඊට නිසි පරිදි ගරු කරන බවට වගබලා ගැනීම පිණිසත්, ප්‍රජාතන්ත්‍රවාදී සමාජයක පොදු සුභ සාධනය සඳහා යුක්ති සහගතව අවශ්‍ය දෑ සපුරාලීම පිණිසත්, නීතියෙන් නියම \n",
            "කරනු ලැබිය හැකි සීමා කිරීම්වලට යටත්ව ය. මෙම අනුව්‍යවස්ථාවේ කාර්ය සඳහා '' නීතිය '' යන්නට මහජන ආරක්ෂාව පිළිබඳව තත් කාලයේ අදාළ වන නීතිය යටතේ සාදන ලද නියෝග ද ඇතුළත් වන්නේය.\n",
            "(8) 12 වන ව්‍යවස්ථාවේ (1) වන අනුව්‍යවස්ථාවෙන්, 13 වන ව්‍යවස්ථාවෙන් සහ 14 වන ව්‍යවස්ථාවෙන් ප්‍රකාශ කොට පිළිගෙන ඇති මූලික අයිතිවාසිකම්, සන්නද්ධ හමුදාවන් හි සාමාජිකයන්ට, පොලිස් හමුදාවේ සාමාජිකයන්ට සහ රටේ යථා පැවැත්ම භාරව සිටින වෙනත් හමුදාවල සාමාජිකයන්ට අදාළ වීමේ දී එම අයිතිවාසිකම් භුක්තිවිඳිය හැක්කේ ද, ක්‍රියාත්මක විය හැක්කේ ඔවුන්ගේ කාර්යයන් යථා පරිදි ඉටු කරවා ගැනීම සහ ඔවුන් අතර විනය පවත්වා ගැනීම පිණිස නීතියෙන් නියම කරනු ලැබිය හැකි සීමා කිරීම් වලට යටත්වය.\n",
            "16. (1) පවත්නා ලිඛිත නීති සහ ලිඛිත නොවූ නීති අතුරෙන් යම්කිසි ලිඛිත නීතියක් හෝ ලිඛිත නොවූ නීතියක් මේ පරිච්ඡේදයේ මෙයට ඉහතින් ඇති විධිවිධාන වලට අනුකූල නොවුව ද, එකී සියලු පවත්නා ලිඛිත නීති සහ ලිඛිත නොවූ නීති බලාත්මකව ක්‍රියාත්මක වන්නේ ය.\n",
            "(2) කවර වූ හෝ පවත්නා ලිඛිත නීතියකින් දඬුවමක් ලෙස පිළිගනු ලැබූ කවර වූ හෝ ආකාරයක දඬුවමකට කවර වූ හෝ තැනැත්තකු නිසි අධිකරණයක ආඥාව පිට යටත් කිරීම පරිච්ඡේදයේ විධිවිධාන කඩකිරීමක් නොවන්නේ ය.\n",
            "17. මේ පරිච්ඡේදයේ විධිවිධාන යටතේ යම් තැනැත්තකුට හිමි වන යම් මූලික අයිතිවාසිකමක් ය\n"
          ]
        }
      ]
    },
    {
      "cell_type": "code",
      "source": [
        "import re\n",
        "import difflib\n",
        "\n",
        "class SinhalaSpellChecker:\n",
        "    def __init__(self):\n",
        "        self.word_set = set()\n",
        "\n",
        "    def train_from_txt(self, txt_path):\n",
        "        try:\n",
        "            with open(txt_path, 'r', encoding='utf-8') as file:\n",
        "                text = file.read()\n",
        "                self.train(text)\n",
        "            print(f\"Successfully trained using {txt_path}\")\n",
        "            print(f\"Learned {len(self.word_set)} unique words\")\n",
        "        except FileNotFoundError:\n",
        "            print(f\"Error: File {txt_path} not found\")\n",
        "        except UnicodeDecodeError:\n",
        "            print(f\"Error: File {txt_path} is not properly encoded. Please ensure it's saved as UTF-8\")\n",
        "\n",
        "    def train(self, text):\n",
        "        text = self._normalize_text(text)\n",
        "        words = text.split()\n",
        "        self.word_set.update(words)\n",
        "\n",
        "    def _normalize_text(self, text):\n",
        "        text = re.sub(r'[.,!?()\"\\']', ' ', text)\n",
        "        text = text.strip()\n",
        "        text = re.sub(r'\\s+', ' ', text)\n",
        "        return text\n",
        "\n",
        "    def check_word(self, word):\n",
        "        if word in self.word_set:\n",
        "            return True\n",
        "        else:\n",
        "            # Use Levenshtein distance to find closest matching word in the dictionary\n",
        "            closest_match = self._find_closest_match(word)\n",
        "            if closest_match:\n",
        "                print(f\"Correct word: '{closest_match}'\")\n",
        "            return False\n",
        "\n",
        "    def _find_closest_match(self, word):\n",
        "        closest_match = difflib.get_close_matches(word, self.word_set, n=3, cutoff=0.6)\n",
        "        if closest_match:\n",
        "            return closest_match[0]\n",
        "        return None\n",
        "\n",
        "    def check_manually_entered_text(self, text):\n",
        "        words = self._normalize_text(text).split()\n",
        "\n",
        "        incorrect_words = []\n",
        "        for word in words:\n",
        "            if not self.check_word(word):\n",
        "                incorrect_words.append(word)\n",
        "\n",
        "        if incorrect_words:\n",
        "            print(\"Incorrect words found:\")\n",
        "            for word in incorrect_words:\n",
        "                print(f\"'{word}' is incorrect.\")\n",
        "        else:\n",
        "            print(\"All words are correct.\")\n",
        "\n",
        "def main():\n",
        "    # Path to the TXT file\n",
        "    txt_path = \"/content/drive/MyDrive/FAISS/Assets/Sri Lanka Constitution-Sinhala.txt\"\n",
        "\n",
        "    # Initialize spell checker\n",
        "    checker = SinhalaSpellChecker()\n",
        "\n",
        "    # Train from the TXT file\n",
        "    checker.train_from_txt(txt_path)\n",
        "\n",
        "    # Manually entered text to check\n",
        "    manually_entered_text = input(\"Enter Sinhala text to check spelling: \")\n",
        "\n",
        "    # Check the manually entered text for incorrect words\n",
        "    checker.check_manually_entered_text(manually_entered_text)\n",
        "\n",
        "if __name__ == \"__main__\":\n",
        "    main()\n"
      ],
      "metadata": {
        "id": "MQP_xZ9P6Xog",
        "colab": {
          "base_uri": "https://localhost:8080/"
        },
        "outputId": "a264bfb2-c1d6-44e8-9e44-7d61c8f1101d"
      },
      "execution_count": 27,
      "outputs": [
        {
          "output_type": "stream",
          "name": "stdout",
          "text": [
            "Successfully trained using /content/drive/MyDrive/FAISS/Assets/Sri Lanka Constitution-Sinhala.txt\n",
            "Learned 5869 unique words\n",
            "Enter Sinhala text to check spelling: ක අඛණ්ඩතාව හෝ මහජන ආරක්ෂාව තහවුරු කිරීම පිණිස ද, විෂමාචාර හෝ අපරාධ වැළැක්වීම පිණිස ද, සෞඛ්‍යය හෝ සදාචාරය ආරක්ෂා කිරීම පිණිස\n",
            "All words are correct.\n"
          ]
        }
      ]
    },
    {
      "cell_type": "code",
      "source": [
        "def calculate_accuracy(correct_text, checked_text):\n",
        "    # Normalize both texts for comparison\n",
        "    correct_text = re.sub(r'[.,!?()\"\\']', ' ', correct_text).strip()\n",
        "    correct_text = re.sub(r'\\s+', ' ', correct_text)\n",
        "\n",
        "    checked_text = re.sub(r'[.,!?()\"\\']', ' ', checked_text).strip()\n",
        "    checked_text = re.sub(r'\\s+', ' ', checked_text)\n",
        "\n",
        "    # Split texts into words\n",
        "    correct_words = set(correct_text.split())\n",
        "    checked_words = set(checked_text.split())\n",
        "\n",
        "    # Calculate correct words and total checked words\n",
        "    correct_count = len(correct_words.intersection(checked_words))\n",
        "    total_checked_words = len(checked_words)\n",
        "\n",
        "    # Avoid division by zero\n",
        "    if total_checked_words == 0:\n",
        "        return 0.0\n",
        "\n",
        "    # Accuracy calculation\n",
        "    accuracy = (correct_count / total_checked_words) * 100\n",
        "    return accuracy\n",
        "\n",
        "\n",
        "def main():\n",
        "    txt_path = \"/content/drive/MyDrive/FAISS/Assets/Sri Lanka Constitution-Sinhala.txt\"\n",
        "\n",
        "    # Initialize spell checker\n",
        "    checker = SinhalaSpellChecker()\n",
        "\n",
        "    # Train from the TXT file\n",
        "    checker.train_from_txt(txt_path)\n",
        "\n",
        "    # Manually entered text to check\n",
        "    manually_entered_text = input(\"Enter Sinhala text to check spelling: \")\n",
        "\n",
        "    # Check the manually entered text for incorrect words\n",
        "    checker.check_manually_entered_text(manually_entered_text)\n",
        "\n",
        "    # Manually corrected text for comparison\n",
        "    ground_truth_text = \"\"\"\n",
        "   ක අඛණ්තව හෝ මහජන ආරක්ෂාව තහවුරු කිරීම පිණිස ද, විෂමාචාර හෝ අපරාධ වැළැක්වීම පිණිස ද, සෞඛ්‍යය හෝ සදාරය ආරක් කිම පිණිස\n",
        "\n",
        "    \"\"\"\n",
        "\n",
        "    # Calculate and print accuracy\n",
        "    accuracy = calculate_accuracy(ground_truth_text, manually_entered_text)\n",
        "    print(f\"Accuracy of the spell checker: {accuracy:.2f}%\")\n",
        "\n",
        "if __name__ == \"__main__\":\n",
        "    main()\n"
      ],
      "metadata": {
        "colab": {
          "base_uri": "https://localhost:8080/"
        },
        "id": "lZAXFkvENw8y",
        "outputId": "f657edc5-8599-412d-c5b5-b066226df48e"
      },
      "execution_count": 26,
      "outputs": [
        {
          "output_type": "stream",
          "name": "stdout",
          "text": [
            "Successfully trained using /content/drive/MyDrive/FAISS/Assets/Sri Lanka Constitution-Sinhala.txt\n",
            "Learned 5869 unique words\n",
            "Enter Sinhala text to check spelling: ක අඛණ්ඩතාව හෝ මහජන ආරක්ෂාව තහවුරු කිරීම පිණිස ද, විෂමාචාර හෝ අපරාධ වැළැක්වීම පිණිස ද, සෞඛ්‍යය හෝ සදාචාරය ආරක්ෂා කිරීම පිණිස\n",
            "All words are correct.\n",
            "Accuracy of the spell checker: 80.00%\n"
          ]
        }
      ]
    },
    {
      "cell_type": "code",
      "source": [
        "!pip install streamlit\n",
        "!apt-get install -y xvfb\n",
        "!pip install pyvirtualdisplay\n",
        "!pip install nest-asyncio\n"
      ],
      "metadata": {
        "id": "fvYLD-w98Ygg",
        "colab": {
          "base_uri": "https://localhost:8080/"
        },
        "outputId": "91ec589e-9c03-41e2-e3a9-d335742a1e1a"
      },
      "execution_count": 1,
      "outputs": [
        {
          "output_type": "stream",
          "name": "stdout",
          "text": [
            "Collecting streamlit\n",
            "  Downloading streamlit-1.41.1-py2.py3-none-any.whl.metadata (8.5 kB)\n",
            "Requirement already satisfied: altair<6,>=4.0 in /usr/local/lib/python3.10/dist-packages (from streamlit) (5.5.0)\n",
            "Requirement already satisfied: blinker<2,>=1.0.0 in /usr/local/lib/python3.10/dist-packages (from streamlit) (1.9.0)\n",
            "Requirement already satisfied: cachetools<6,>=4.0 in /usr/local/lib/python3.10/dist-packages (from streamlit) (5.5.0)\n",
            "Requirement already satisfied: click<9,>=7.0 in /usr/local/lib/python3.10/dist-packages (from streamlit) (8.1.7)\n",
            "Requirement already satisfied: numpy<3,>=1.23 in /usr/local/lib/python3.10/dist-packages (from streamlit) (1.26.4)\n",
            "Requirement already satisfied: packaging<25,>=20 in /usr/local/lib/python3.10/dist-packages (from streamlit) (24.2)\n",
            "Requirement already satisfied: pandas<3,>=1.4.0 in /usr/local/lib/python3.10/dist-packages (from streamlit) (2.2.2)\n",
            "Requirement already satisfied: pillow<12,>=7.1.0 in /usr/local/lib/python3.10/dist-packages (from streamlit) (11.0.0)\n",
            "Requirement already satisfied: protobuf<6,>=3.20 in /usr/local/lib/python3.10/dist-packages (from streamlit) (4.25.5)\n",
            "Requirement already satisfied: pyarrow>=7.0 in /usr/local/lib/python3.10/dist-packages (from streamlit) (17.0.0)\n",
            "Requirement already satisfied: requests<3,>=2.27 in /usr/local/lib/python3.10/dist-packages (from streamlit) (2.32.3)\n",
            "Requirement already satisfied: rich<14,>=10.14.0 in /usr/local/lib/python3.10/dist-packages (from streamlit) (13.9.4)\n",
            "Requirement already satisfied: tenacity<10,>=8.1.0 in /usr/local/lib/python3.10/dist-packages (from streamlit) (9.0.0)\n",
            "Requirement already satisfied: toml<2,>=0.10.1 in /usr/local/lib/python3.10/dist-packages (from streamlit) (0.10.2)\n",
            "Requirement already satisfied: typing-extensions<5,>=4.3.0 in /usr/local/lib/python3.10/dist-packages (from streamlit) (4.12.2)\n",
            "Collecting watchdog<7,>=2.1.5 (from streamlit)\n",
            "  Downloading watchdog-6.0.0-py3-none-manylinux2014_x86_64.whl.metadata (44 kB)\n",
            "\u001b[2K     \u001b[90m━━━━━━━━━━━━━━━━━━━━━━━━━━━━━━━━━━━━━━━━\u001b[0m \u001b[32m44.3/44.3 kB\u001b[0m \u001b[31m2.7 MB/s\u001b[0m eta \u001b[36m0:00:00\u001b[0m\n",
            "\u001b[?25hRequirement already satisfied: gitpython!=3.1.19,<4,>=3.0.7 in /usr/local/lib/python3.10/dist-packages (from streamlit) (3.1.43)\n",
            "Collecting pydeck<1,>=0.8.0b4 (from streamlit)\n",
            "  Downloading pydeck-0.9.1-py2.py3-none-any.whl.metadata (4.1 kB)\n",
            "Requirement already satisfied: tornado<7,>=6.0.3 in /usr/local/lib/python3.10/dist-packages (from streamlit) (6.3.3)\n",
            "Requirement already satisfied: jinja2 in /usr/local/lib/python3.10/dist-packages (from altair<6,>=4.0->streamlit) (3.1.4)\n",
            "Requirement already satisfied: jsonschema>=3.0 in /usr/local/lib/python3.10/dist-packages (from altair<6,>=4.0->streamlit) (4.23.0)\n",
            "Requirement already satisfied: narwhals>=1.14.2 in /usr/local/lib/python3.10/dist-packages (from altair<6,>=4.0->streamlit) (1.18.4)\n",
            "Requirement already satisfied: gitdb<5,>=4.0.1 in /usr/local/lib/python3.10/dist-packages (from gitpython!=3.1.19,<4,>=3.0.7->streamlit) (4.0.11)\n",
            "Requirement already satisfied: python-dateutil>=2.8.2 in /usr/local/lib/python3.10/dist-packages (from pandas<3,>=1.4.0->streamlit) (2.8.2)\n",
            "Requirement already satisfied: pytz>=2020.1 in /usr/local/lib/python3.10/dist-packages (from pandas<3,>=1.4.0->streamlit) (2024.2)\n",
            "Requirement already satisfied: tzdata>=2022.7 in /usr/local/lib/python3.10/dist-packages (from pandas<3,>=1.4.0->streamlit) (2024.2)\n",
            "Requirement already satisfied: charset-normalizer<4,>=2 in /usr/local/lib/python3.10/dist-packages (from requests<3,>=2.27->streamlit) (3.4.0)\n",
            "Requirement already satisfied: idna<4,>=2.5 in /usr/local/lib/python3.10/dist-packages (from requests<3,>=2.27->streamlit) (3.10)\n",
            "Requirement already satisfied: urllib3<3,>=1.21.1 in /usr/local/lib/python3.10/dist-packages (from requests<3,>=2.27->streamlit) (2.2.3)\n",
            "Requirement already satisfied: certifi>=2017.4.17 in /usr/local/lib/python3.10/dist-packages (from requests<3,>=2.27->streamlit) (2024.12.14)\n",
            "Requirement already satisfied: markdown-it-py>=2.2.0 in /usr/local/lib/python3.10/dist-packages (from rich<14,>=10.14.0->streamlit) (3.0.0)\n",
            "Requirement already satisfied: pygments<3.0.0,>=2.13.0 in /usr/local/lib/python3.10/dist-packages (from rich<14,>=10.14.0->streamlit) (2.18.0)\n",
            "Requirement already satisfied: smmap<6,>=3.0.1 in /usr/local/lib/python3.10/dist-packages (from gitdb<5,>=4.0.1->gitpython!=3.1.19,<4,>=3.0.7->streamlit) (5.0.1)\n",
            "Requirement already satisfied: MarkupSafe>=2.0 in /usr/local/lib/python3.10/dist-packages (from jinja2->altair<6,>=4.0->streamlit) (3.0.2)\n",
            "Requirement already satisfied: attrs>=22.2.0 in /usr/local/lib/python3.10/dist-packages (from jsonschema>=3.0->altair<6,>=4.0->streamlit) (24.3.0)\n",
            "Requirement already satisfied: jsonschema-specifications>=2023.03.6 in /usr/local/lib/python3.10/dist-packages (from jsonschema>=3.0->altair<6,>=4.0->streamlit) (2024.10.1)\n",
            "Requirement already satisfied: referencing>=0.28.4 in /usr/local/lib/python3.10/dist-packages (from jsonschema>=3.0->altair<6,>=4.0->streamlit) (0.35.1)\n",
            "Requirement already satisfied: rpds-py>=0.7.1 in /usr/local/lib/python3.10/dist-packages (from jsonschema>=3.0->altair<6,>=4.0->streamlit) (0.22.3)\n",
            "Requirement already satisfied: mdurl~=0.1 in /usr/local/lib/python3.10/dist-packages (from markdown-it-py>=2.2.0->rich<14,>=10.14.0->streamlit) (0.1.2)\n",
            "Requirement already satisfied: six>=1.5 in /usr/local/lib/python3.10/dist-packages (from python-dateutil>=2.8.2->pandas<3,>=1.4.0->streamlit) (1.17.0)\n",
            "Downloading streamlit-1.41.1-py2.py3-none-any.whl (9.1 MB)\n",
            "\u001b[2K   \u001b[90m━━━━━━━━━━━━━━━━━━━━━━━━━━━━━━━━━━━━━━━━\u001b[0m \u001b[32m9.1/9.1 MB\u001b[0m \u001b[31m38.6 MB/s\u001b[0m eta \u001b[36m0:00:00\u001b[0m\n",
            "\u001b[?25hDownloading pydeck-0.9.1-py2.py3-none-any.whl (6.9 MB)\n",
            "\u001b[2K   \u001b[90m━━━━━━━━━━━━━━━━━━━━━━━━━━━━━━━━━━━━━━━━\u001b[0m \u001b[32m6.9/6.9 MB\u001b[0m \u001b[31m63.7 MB/s\u001b[0m eta \u001b[36m0:00:00\u001b[0m\n",
            "\u001b[?25hDownloading watchdog-6.0.0-py3-none-manylinux2014_x86_64.whl (79 kB)\n",
            "\u001b[2K   \u001b[90m━━━━━━━━━━━━━━━━━━━━━━━━━━━━━━━━━━━━━━━━\u001b[0m \u001b[32m79.1/79.1 kB\u001b[0m \u001b[31m5.8 MB/s\u001b[0m eta \u001b[36m0:00:00\u001b[0m\n",
            "\u001b[?25hInstalling collected packages: watchdog, pydeck, streamlit\n",
            "Successfully installed pydeck-0.9.1 streamlit-1.41.1 watchdog-6.0.0\n",
            "Reading package lists... Done\n",
            "Building dependency tree... Done\n",
            "Reading state information... Done\n",
            "The following additional packages will be installed:\n",
            "  libfontenc1 libxfont2 libxkbfile1 x11-xkb-utils xfonts-base xfonts-encodings xfonts-utils\n",
            "  xserver-common\n",
            "The following NEW packages will be installed:\n",
            "  libfontenc1 libxfont2 libxkbfile1 x11-xkb-utils xfonts-base xfonts-encodings xfonts-utils\n",
            "  xserver-common xvfb\n",
            "0 upgraded, 9 newly installed, 0 to remove and 49 not upgraded.\n",
            "Need to get 7,815 kB of archives.\n",
            "After this operation, 11.9 MB of additional disk space will be used.\n",
            "Get:1 http://archive.ubuntu.com/ubuntu jammy/main amd64 libfontenc1 amd64 1:1.1.4-1build3 [14.7 kB]\n",
            "Get:2 http://archive.ubuntu.com/ubuntu jammy/main amd64 libxfont2 amd64 1:2.0.5-1build1 [94.5 kB]\n",
            "Get:3 http://archive.ubuntu.com/ubuntu jammy/main amd64 libxkbfile1 amd64 1:1.1.0-1build3 [71.8 kB]\n",
            "Get:4 http://archive.ubuntu.com/ubuntu jammy/main amd64 x11-xkb-utils amd64 7.7+5build4 [172 kB]\n",
            "Get:5 http://archive.ubuntu.com/ubuntu jammy/main amd64 xfonts-encodings all 1:1.0.5-0ubuntu2 [578 kB]\n",
            "Get:6 http://archive.ubuntu.com/ubuntu jammy/main amd64 xfonts-utils amd64 1:7.7+6build2 [94.6 kB]\n",
            "Get:7 http://archive.ubuntu.com/ubuntu jammy/main amd64 xfonts-base all 1:1.0.5 [5,896 kB]\n",
            "Get:8 http://archive.ubuntu.com/ubuntu jammy-updates/main amd64 xserver-common all 2:21.1.4-2ubuntu1.7~22.04.12 [28.7 kB]\n",
            "Get:9 http://archive.ubuntu.com/ubuntu jammy-updates/universe amd64 xvfb amd64 2:21.1.4-2ubuntu1.7~22.04.12 [864 kB]\n",
            "Fetched 7,815 kB in 1s (6,517 kB/s)\n",
            "Selecting previously unselected package libfontenc1:amd64.\n",
            "(Reading database ... 123634 files and directories currently installed.)\n",
            "Preparing to unpack .../0-libfontenc1_1%3a1.1.4-1build3_amd64.deb ...\n",
            "Unpacking libfontenc1:amd64 (1:1.1.4-1build3) ...\n",
            "Selecting previously unselected package libxfont2:amd64.\n",
            "Preparing to unpack .../1-libxfont2_1%3a2.0.5-1build1_amd64.deb ...\n",
            "Unpacking libxfont2:amd64 (1:2.0.5-1build1) ...\n",
            "Selecting previously unselected package libxkbfile1:amd64.\n",
            "Preparing to unpack .../2-libxkbfile1_1%3a1.1.0-1build3_amd64.deb ...\n",
            "Unpacking libxkbfile1:amd64 (1:1.1.0-1build3) ...\n",
            "Selecting previously unselected package x11-xkb-utils.\n",
            "Preparing to unpack .../3-x11-xkb-utils_7.7+5build4_amd64.deb ...\n",
            "Unpacking x11-xkb-utils (7.7+5build4) ...\n",
            "Selecting previously unselected package xfonts-encodings.\n",
            "Preparing to unpack .../4-xfonts-encodings_1%3a1.0.5-0ubuntu2_all.deb ...\n",
            "Unpacking xfonts-encodings (1:1.0.5-0ubuntu2) ...\n",
            "Selecting previously unselected package xfonts-utils.\n",
            "Preparing to unpack .../5-xfonts-utils_1%3a7.7+6build2_amd64.deb ...\n",
            "Unpacking xfonts-utils (1:7.7+6build2) ...\n",
            "Selecting previously unselected package xfonts-base.\n",
            "Preparing to unpack .../6-xfonts-base_1%3a1.0.5_all.deb ...\n",
            "Unpacking xfonts-base (1:1.0.5) ...\n",
            "Selecting previously unselected package xserver-common.\n",
            "Preparing to unpack .../7-xserver-common_2%3a21.1.4-2ubuntu1.7~22.04.12_all.deb ...\n",
            "Unpacking xserver-common (2:21.1.4-2ubuntu1.7~22.04.12) ...\n",
            "Selecting previously unselected package xvfb.\n",
            "Preparing to unpack .../8-xvfb_2%3a21.1.4-2ubuntu1.7~22.04.12_amd64.deb ...\n",
            "Unpacking xvfb (2:21.1.4-2ubuntu1.7~22.04.12) ...\n",
            "Setting up libfontenc1:amd64 (1:1.1.4-1build3) ...\n",
            "Setting up xfonts-encodings (1:1.0.5-0ubuntu2) ...\n",
            "Setting up libxkbfile1:amd64 (1:1.1.0-1build3) ...\n",
            "Setting up libxfont2:amd64 (1:2.0.5-1build1) ...\n",
            "Setting up x11-xkb-utils (7.7+5build4) ...\n",
            "Setting up xfonts-utils (1:7.7+6build2) ...\n",
            "Setting up xfonts-base (1:1.0.5) ...\n",
            "Setting up xserver-common (2:21.1.4-2ubuntu1.7~22.04.12) ...\n",
            "Setting up xvfb (2:21.1.4-2ubuntu1.7~22.04.12) ...\n",
            "Processing triggers for man-db (2.10.2-1) ...\n",
            "Processing triggers for fontconfig (2.13.1-4.2ubuntu5) ...\n",
            "Processing triggers for libc-bin (2.35-0ubuntu3.4) ...\n",
            "/sbin/ldconfig.real: /usr/local/lib/libtbbbind_2_0.so.3 is not a symbolic link\n",
            "\n",
            "/sbin/ldconfig.real: /usr/local/lib/libtcm.so.1 is not a symbolic link\n",
            "\n",
            "/sbin/ldconfig.real: /usr/local/lib/libtbbbind_2_5.so.3 is not a symbolic link\n",
            "\n",
            "/sbin/ldconfig.real: /usr/local/lib/libtbbmalloc.so.2 is not a symbolic link\n",
            "\n",
            "/sbin/ldconfig.real: /usr/local/lib/libhwloc.so.15 is not a symbolic link\n",
            "\n",
            "/sbin/ldconfig.real: /usr/local/lib/libur_adapter_opencl.so.0 is not a symbolic link\n",
            "\n",
            "/sbin/ldconfig.real: /usr/local/lib/libur_adapter_level_zero.so.0 is not a symbolic link\n",
            "\n",
            "/sbin/ldconfig.real: /usr/local/lib/libtcm_debug.so.1 is not a symbolic link\n",
            "\n",
            "/sbin/ldconfig.real: /usr/local/lib/libtbbmalloc_proxy.so.2 is not a symbolic link\n",
            "\n",
            "/sbin/ldconfig.real: /usr/local/lib/libtbbbind.so.3 is not a symbolic link\n",
            "\n",
            "/sbin/ldconfig.real: /usr/local/lib/libtbb.so.12 is not a symbolic link\n",
            "\n",
            "/sbin/ldconfig.real: /usr/local/lib/libur_loader.so.0 is not a symbolic link\n",
            "\n",
            "/sbin/ldconfig.real: /usr/local/lib/libumf.so.0 is not a symbolic link\n",
            "\n",
            "Collecting pyvirtualdisplay\n",
            "  Downloading PyVirtualDisplay-3.0-py3-none-any.whl.metadata (943 bytes)\n",
            "Downloading PyVirtualDisplay-3.0-py3-none-any.whl (15 kB)\n",
            "Installing collected packages: pyvirtualdisplay\n",
            "Successfully installed pyvirtualdisplay-3.0\n",
            "Requirement already satisfied: nest-asyncio in /usr/local/lib/python3.10/dist-packages (1.6.0)\n"
          ]
        }
      ]
    },
    {
      "cell_type": "code",
      "source": [
        "# Create Streamlit app script\n",
        "streamlit_script = \"\"\"\n",
        "import re\n",
        "import difflib\n",
        "import streamlit as st\n",
        "\n",
        "class SinhalaSpellChecker:\n",
        "    def __init__(self):\n",
        "        self.word_set = set()  # Using a set for fast lookup\n",
        "\n",
        "    def train_from_txt(self, txt_path):\n",
        "        try:\n",
        "            with open(txt_path, 'r', encoding='utf-8') as file:\n",
        "                text = file.read()\n",
        "                self.train(text)\n",
        "            return f\"Successfully trained using {txt_path}\", len(self.word_set)\n",
        "        except FileNotFoundError:\n",
        "            return f\"Error: File {txt_path} not found\", 0\n",
        "        except UnicodeDecodeError:\n",
        "            return f\"Error: File {txt_path} is not properly encoded. Please ensure it's saved as UTF-8\", 0\n",
        "\n",
        "    def train(self, text):\n",
        "        text = self._normalize_text(text)\n",
        "        words = text.split()\n",
        "        self.word_set.update(words)\n",
        "\n",
        "    def _normalize_text(self, text):\n",
        "    # Remove punctuation and extra spaces\n",
        "      #text = re.sub(r'(.,!?[]\\'\\\"\", text)  # Corrected punctuation removal\n",
        "      text = text.strip()  # Remove leading/trailing spaces\n",
        "      text = re.sub(r'\\s+', ' ', text)  # Replace multiple spaces with a single space\n",
        "      return text\n",
        "\n",
        "\n",
        "\n",
        "\n",
        "    def check_word(self, word):\n",
        "        if word in self.word_set:\n",
        "            return True  # Word is correct\n",
        "        else:\n",
        "            # Use Levenshtein distance to find closest matching word in the dictionary\n",
        "            closest_match = self._find_closest_match(word)\n",
        "            if closest_match:\n",
        "                return f\"Did you mean '{closest_match}'?\", False\n",
        "            return None, False  # Word is incorrect\n",
        "\n",
        "    def _find_closest_match(self, word):\n",
        "        closest_match = difflib.get_close_matches(word, self.word_set, n=3, cutoff=0.6)\n",
        "        if closest_match:\n",
        "            return closest_match[0]  # Suggest the closest match\n",
        "        return None\n",
        "\n",
        "    def check_manually_entered_text(self, text):\n",
        "        words = self._normalize_text(text).split()\n",
        "\n",
        "        incorrect_words = []\n",
        "        suggestions = []\n",
        "\n",
        "        for word in words:\n",
        "            result = self.check_word(word)  # Get result from check_word\n",
        "\n",
        "            if result:  # If result is not None\n",
        "                if isinstance(result, tuple):  # Check if result is a tuple\n",
        "                    suggestion, correct = result  # Unpack suggestion and correctness\n",
        "                    if not correct:\n",
        "                        incorrect_words.append(word)\n",
        "                        if suggestion:\n",
        "                            suggestions.append(suggestion)\n",
        "                else:\n",
        "                    # Handle case where result is not a tuple (shouldn't happen)\n",
        "                    incorrect_words.append(word)\n",
        "                    suggestions.append(\"No suggestion available\")\n",
        "\n",
        "        if incorrect_words:\n",
        "            return incorrect_words, suggestions\n",
        "        else:\n",
        "            return None, None\n",
        "\n",
        "# Streamlit UI\n",
        "def main():\n",
        "    # Create Streamlit title and description\n",
        "    st.title(\"Sinhala Spell Checker\")\n",
        "    st.markdown(\"This is a Sinhala spell checker. It will check the spelling of words from a Sinhala text file and suggest corrections.\")\n",
        "\n",
        "    # Upload the training TXT file\n",
        "    uploaded_file = st.file_uploader(\"Upload the Sinhala text file for training\", type=[\"txt\"])\n",
        "\n",
        "    if uploaded_file is not None:\n",
        "        # Save the uploaded file to a temporary location\n",
        "        with open(\"/tmp/uploaded_file.txt\", \"wb\") as f:\n",
        "            f.write(uploaded_file.getbuffer())\n",
        "\n",
        "        # Initialize spell checker\n",
        "        checker = SinhalaSpellChecker()\n",
        "\n",
        "        # Train from the uploaded file\n",
        "        status, num_words = checker.train_from_txt(\"/tmp/uploaded_file.txt\")\n",
        "        st.write(status)\n",
        "        st.write(f\"Learned {num_words} unique words.\")\n",
        "\n",
        "        # Text input area for checking spelling\n",
        "        user_input = st.text_area(\"Enter Sinhala text to check spelling\")\n",
        "\n",
        "        if st.button(\"Check Spelling\"):\n",
        "            if user_input:\n",
        "                incorrect_words, suggestions = checker.check_manually_entered_text(user_input)\n",
        "\n",
        "                if incorrect_words:\n",
        "                    st.subheader(\"Incorrect words found:\")\n",
        "                    for word, suggestion in zip(incorrect_words, suggestions):\n",
        "                        st.write(f\"'{word}' is incorrect. {suggestion}\")\n",
        "                else:\n",
        "                    st.write(\"All words are correct.\")\n",
        "            else:\n",
        "                st.write(\"Please enter a sentence to check.\")\n",
        "\n",
        "if __name__ == \"__main__\":\n",
        "    main()\n",
        "\n",
        "\"\"\"\n",
        "\n",
        "# Save the script as a Python file\n",
        "with open('/content/streamlit_app.py', 'w') as f:\n",
        "    f.write(streamlit_script)\n",
        "\n",
        "print(\"Streamlit app script saved.\")\n"
      ],
      "metadata": {
        "id": "9Qxa2in3B4r4",
        "colab": {
          "base_uri": "https://localhost:8080/"
        },
        "outputId": "368ab53f-3b37-4774-f28c-866c9d4e24ee"
      },
      "execution_count": 2,
      "outputs": [
        {
          "output_type": "stream",
          "name": "stdout",
          "text": [
            "Streamlit app script saved.\n"
          ]
        }
      ]
    },
    {
      "cell_type": "code",
      "source": [
        "!pip install streamlit pyngrok\n"
      ],
      "metadata": {
        "colab": {
          "base_uri": "https://localhost:8080/"
        },
        "id": "uzQmEuvAd3lh",
        "outputId": "0848b6b8-7470-47aa-e261-99ebd6698710"
      },
      "execution_count": 3,
      "outputs": [
        {
          "output_type": "stream",
          "name": "stdout",
          "text": [
            "Requirement already satisfied: streamlit in /usr/local/lib/python3.10/dist-packages (1.41.1)\n",
            "Collecting pyngrok\n",
            "  Downloading pyngrok-7.2.2-py3-none-any.whl.metadata (8.4 kB)\n",
            "Requirement already satisfied: altair<6,>=4.0 in /usr/local/lib/python3.10/dist-packages (from streamlit) (5.5.0)\n",
            "Requirement already satisfied: blinker<2,>=1.0.0 in /usr/local/lib/python3.10/dist-packages (from streamlit) (1.9.0)\n",
            "Requirement already satisfied: cachetools<6,>=4.0 in /usr/local/lib/python3.10/dist-packages (from streamlit) (5.5.0)\n",
            "Requirement already satisfied: click<9,>=7.0 in /usr/local/lib/python3.10/dist-packages (from streamlit) (8.1.7)\n",
            "Requirement already satisfied: numpy<3,>=1.23 in /usr/local/lib/python3.10/dist-packages (from streamlit) (1.26.4)\n",
            "Requirement already satisfied: packaging<25,>=20 in /usr/local/lib/python3.10/dist-packages (from streamlit) (24.2)\n",
            "Requirement already satisfied: pandas<3,>=1.4.0 in /usr/local/lib/python3.10/dist-packages (from streamlit) (2.2.2)\n",
            "Requirement already satisfied: pillow<12,>=7.1.0 in /usr/local/lib/python3.10/dist-packages (from streamlit) (11.0.0)\n",
            "Requirement already satisfied: protobuf<6,>=3.20 in /usr/local/lib/python3.10/dist-packages (from streamlit) (4.25.5)\n",
            "Requirement already satisfied: pyarrow>=7.0 in /usr/local/lib/python3.10/dist-packages (from streamlit) (17.0.0)\n",
            "Requirement already satisfied: requests<3,>=2.27 in /usr/local/lib/python3.10/dist-packages (from streamlit) (2.32.3)\n",
            "Requirement already satisfied: rich<14,>=10.14.0 in /usr/local/lib/python3.10/dist-packages (from streamlit) (13.9.4)\n",
            "Requirement already satisfied: tenacity<10,>=8.1.0 in /usr/local/lib/python3.10/dist-packages (from streamlit) (9.0.0)\n",
            "Requirement already satisfied: toml<2,>=0.10.1 in /usr/local/lib/python3.10/dist-packages (from streamlit) (0.10.2)\n",
            "Requirement already satisfied: typing-extensions<5,>=4.3.0 in /usr/local/lib/python3.10/dist-packages (from streamlit) (4.12.2)\n",
            "Requirement already satisfied: watchdog<7,>=2.1.5 in /usr/local/lib/python3.10/dist-packages (from streamlit) (6.0.0)\n",
            "Requirement already satisfied: gitpython!=3.1.19,<4,>=3.0.7 in /usr/local/lib/python3.10/dist-packages (from streamlit) (3.1.43)\n",
            "Requirement already satisfied: pydeck<1,>=0.8.0b4 in /usr/local/lib/python3.10/dist-packages (from streamlit) (0.9.1)\n",
            "Requirement already satisfied: tornado<7,>=6.0.3 in /usr/local/lib/python3.10/dist-packages (from streamlit) (6.3.3)\n",
            "Requirement already satisfied: PyYAML>=5.1 in /usr/local/lib/python3.10/dist-packages (from pyngrok) (6.0.2)\n",
            "Requirement already satisfied: jinja2 in /usr/local/lib/python3.10/dist-packages (from altair<6,>=4.0->streamlit) (3.1.4)\n",
            "Requirement already satisfied: jsonschema>=3.0 in /usr/local/lib/python3.10/dist-packages (from altair<6,>=4.0->streamlit) (4.23.0)\n",
            "Requirement already satisfied: narwhals>=1.14.2 in /usr/local/lib/python3.10/dist-packages (from altair<6,>=4.0->streamlit) (1.18.4)\n",
            "Requirement already satisfied: gitdb<5,>=4.0.1 in /usr/local/lib/python3.10/dist-packages (from gitpython!=3.1.19,<4,>=3.0.7->streamlit) (4.0.11)\n",
            "Requirement already satisfied: python-dateutil>=2.8.2 in /usr/local/lib/python3.10/dist-packages (from pandas<3,>=1.4.0->streamlit) (2.8.2)\n",
            "Requirement already satisfied: pytz>=2020.1 in /usr/local/lib/python3.10/dist-packages (from pandas<3,>=1.4.0->streamlit) (2024.2)\n",
            "Requirement already satisfied: tzdata>=2022.7 in /usr/local/lib/python3.10/dist-packages (from pandas<3,>=1.4.0->streamlit) (2024.2)\n",
            "Requirement already satisfied: charset-normalizer<4,>=2 in /usr/local/lib/python3.10/dist-packages (from requests<3,>=2.27->streamlit) (3.4.0)\n",
            "Requirement already satisfied: idna<4,>=2.5 in /usr/local/lib/python3.10/dist-packages (from requests<3,>=2.27->streamlit) (3.10)\n",
            "Requirement already satisfied: urllib3<3,>=1.21.1 in /usr/local/lib/python3.10/dist-packages (from requests<3,>=2.27->streamlit) (2.2.3)\n",
            "Requirement already satisfied: certifi>=2017.4.17 in /usr/local/lib/python3.10/dist-packages (from requests<3,>=2.27->streamlit) (2024.12.14)\n",
            "Requirement already satisfied: markdown-it-py>=2.2.0 in /usr/local/lib/python3.10/dist-packages (from rich<14,>=10.14.0->streamlit) (3.0.0)\n",
            "Requirement already satisfied: pygments<3.0.0,>=2.13.0 in /usr/local/lib/python3.10/dist-packages (from rich<14,>=10.14.0->streamlit) (2.18.0)\n",
            "Requirement already satisfied: smmap<6,>=3.0.1 in /usr/local/lib/python3.10/dist-packages (from gitdb<5,>=4.0.1->gitpython!=3.1.19,<4,>=3.0.7->streamlit) (5.0.1)\n",
            "Requirement already satisfied: MarkupSafe>=2.0 in /usr/local/lib/python3.10/dist-packages (from jinja2->altair<6,>=4.0->streamlit) (3.0.2)\n",
            "Requirement already satisfied: attrs>=22.2.0 in /usr/local/lib/python3.10/dist-packages (from jsonschema>=3.0->altair<6,>=4.0->streamlit) (24.3.0)\n",
            "Requirement already satisfied: jsonschema-specifications>=2023.03.6 in /usr/local/lib/python3.10/dist-packages (from jsonschema>=3.0->altair<6,>=4.0->streamlit) (2024.10.1)\n",
            "Requirement already satisfied: referencing>=0.28.4 in /usr/local/lib/python3.10/dist-packages (from jsonschema>=3.0->altair<6,>=4.0->streamlit) (0.35.1)\n",
            "Requirement already satisfied: rpds-py>=0.7.1 in /usr/local/lib/python3.10/dist-packages (from jsonschema>=3.0->altair<6,>=4.0->streamlit) (0.22.3)\n",
            "Requirement already satisfied: mdurl~=0.1 in /usr/local/lib/python3.10/dist-packages (from markdown-it-py>=2.2.0->rich<14,>=10.14.0->streamlit) (0.1.2)\n",
            "Requirement already satisfied: six>=1.5 in /usr/local/lib/python3.10/dist-packages (from python-dateutil>=2.8.2->pandas<3,>=1.4.0->streamlit) (1.17.0)\n",
            "Downloading pyngrok-7.2.2-py3-none-any.whl (22 kB)\n",
            "Installing collected packages: pyngrok\n",
            "Successfully installed pyngrok-7.2.2\n"
          ]
        }
      ]
    },
    {
      "cell_type": "code",
      "source": [
        "import subprocess\n",
        "\n",
        "# Stop all ngrok tunnels\n",
        "subprocess.run([\"ngrok\", \"kill\"])\n"
      ],
      "metadata": {
        "colab": {
          "base_uri": "https://localhost:8080/"
        },
        "id": "sJ9_Yd6opEUO",
        "outputId": "8e1921f4-725b-46cb-d9b3-22943754e01e"
      },
      "execution_count": 4,
      "outputs": [
        {
          "output_type": "execute_result",
          "data": {
            "text/plain": [
              "CompletedProcess(args=['ngrok', 'kill'], returncode=0)"
            ]
          },
          "metadata": {},
          "execution_count": 4
        }
      ]
    },
    {
      "cell_type": "code",
      "source": [
        "!ngrok config add-authtoken 2rFKIQmB8fM9gujgWip3hFjyG6M_6pcTs8bhtMxNMUGKD6ckG\n"
      ],
      "metadata": {
        "colab": {
          "base_uri": "https://localhost:8080/"
        },
        "id": "KC2d904eilU-",
        "outputId": "46ae62f7-ffde-4411-bedc-c32a96d38c8a"
      },
      "execution_count": 5,
      "outputs": [
        {
          "output_type": "stream",
          "name": "stdout",
          "text": [
            "Authtoken saved to configuration file: /root/.config/ngrok/ngrok.yml\n"
          ]
        }
      ]
    },
    {
      "cell_type": "code",
      "source": [
        "import subprocess\n",
        "from pyngrok import ngrok\n",
        "\n",
        "# Start the Streamlit app\n",
        "streamlit_process = subprocess.Popen([\"streamlit\", \"run\", \"/content/streamlit_app.py\"])\n",
        "\n",
        "# Set up the ngrok tunnel\n",
        "public_url = ngrok.connect(8501, \"http\")\n",
        "print(f\"Streamlit app is running at {public_url}\")\n"
      ],
      "metadata": {
        "colab": {
          "base_uri": "https://localhost:8080/"
        },
        "id": "vo0EqEPLioNM",
        "outputId": "7feaff2c-4dcf-4aeb-bd5d-ac33fdcfd0c0"
      },
      "execution_count": 6,
      "outputs": [
        {
          "output_type": "stream",
          "name": "stdout",
          "text": [
            "Streamlit app is running at NgrokTunnel: \"https://661c-34-74-89-139.ngrok-free.app\" -> \"http://localhost:8501\"\n"
          ]
        }
      ]
    },
    {
      "cell_type": "code",
      "source": [],
      "metadata": {
        "id": "RBRB5ZPZirzY"
      },
      "execution_count": null,
      "outputs": []
    }
  ],
  "metadata": {
    "colab": {
      "provenance": [],
      "gpuType": "T4"
    },
    "kernelspec": {
      "display_name": "Python 3",
      "name": "python3"
    },
    "language_info": {
      "name": "python"
    },
    "accelerator": "GPU"
  },
  "nbformat": 4,
  "nbformat_minor": 0
}